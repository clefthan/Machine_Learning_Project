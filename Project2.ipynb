{
 "cells": [
  {
   "cell_type": "markdown",
   "metadata": {},
   "source": [
    "## Part 1: Regression on California Test Scores"
   ]
  },
  {
   "cell_type": "code",
   "execution_count": 1,
   "metadata": {},
   "outputs": [],
   "source": [
    "import pandas as pd \n",
    "import numpy as np\n",
    "import matplotlib.pyplot as plt\n",
    "import seaborn as sns\n",
    "%matplotlib inline"
   ]
  },
  {
   "cell_type": "code",
   "execution_count": 2,
   "metadata": {
    "scrolled": true
   },
   "outputs": [
    {
     "data": {
      "text/html": [
       "<div>\n",
       "<style scoped>\n",
       "    .dataframe tbody tr th:only-of-type {\n",
       "        vertical-align: middle;\n",
       "    }\n",
       "\n",
       "    .dataframe tbody tr th {\n",
       "        vertical-align: top;\n",
       "    }\n",
       "\n",
       "    .dataframe thead th {\n",
       "        text-align: right;\n",
       "    }\n",
       "</style>\n",
       "<table border=\"1\" class=\"dataframe\">\n",
       "  <thead>\n",
       "    <tr style=\"text-align: right;\">\n",
       "      <th></th>\n",
       "      <th>Unnamed: 0</th>\n",
       "      <th>distcod</th>\n",
       "      <th>county</th>\n",
       "      <th>district</th>\n",
       "      <th>grspan</th>\n",
       "      <th>enrltot</th>\n",
       "      <th>teachers</th>\n",
       "      <th>calwpct</th>\n",
       "      <th>mealpct</th>\n",
       "      <th>computer</th>\n",
       "      <th>testscr</th>\n",
       "      <th>compstu</th>\n",
       "      <th>expnstu</th>\n",
       "      <th>str</th>\n",
       "      <th>avginc</th>\n",
       "      <th>elpct</th>\n",
       "      <th>readscr</th>\n",
       "      <th>mathscr</th>\n",
       "    </tr>\n",
       "  </thead>\n",
       "  <tbody>\n",
       "    <tr>\n",
       "      <th>0</th>\n",
       "      <td>1</td>\n",
       "      <td>75119</td>\n",
       "      <td>Alameda</td>\n",
       "      <td>Sunol Glen Unified</td>\n",
       "      <td>KK-08</td>\n",
       "      <td>195</td>\n",
       "      <td>10.900000</td>\n",
       "      <td>0.510200</td>\n",
       "      <td>2.040800</td>\n",
       "      <td>67</td>\n",
       "      <td>690.799988</td>\n",
       "      <td>0.343590</td>\n",
       "      <td>6384.911133</td>\n",
       "      <td>17.889910</td>\n",
       "      <td>22.690001</td>\n",
       "      <td>0.000000</td>\n",
       "      <td>691.599976</td>\n",
       "      <td>690.000000</td>\n",
       "    </tr>\n",
       "    <tr>\n",
       "      <th>1</th>\n",
       "      <td>2</td>\n",
       "      <td>61499</td>\n",
       "      <td>Butte</td>\n",
       "      <td>Manzanita Elementary</td>\n",
       "      <td>KK-08</td>\n",
       "      <td>240</td>\n",
       "      <td>11.150000</td>\n",
       "      <td>15.416700</td>\n",
       "      <td>47.916698</td>\n",
       "      <td>101</td>\n",
       "      <td>661.200012</td>\n",
       "      <td>0.420833</td>\n",
       "      <td>5099.380859</td>\n",
       "      <td>21.524664</td>\n",
       "      <td>9.824000</td>\n",
       "      <td>4.583333</td>\n",
       "      <td>660.500000</td>\n",
       "      <td>661.900024</td>\n",
       "    </tr>\n",
       "    <tr>\n",
       "      <th>2</th>\n",
       "      <td>3</td>\n",
       "      <td>61549</td>\n",
       "      <td>Butte</td>\n",
       "      <td>Thermalito Union Elementary</td>\n",
       "      <td>KK-08</td>\n",
       "      <td>1550</td>\n",
       "      <td>82.900002</td>\n",
       "      <td>55.032299</td>\n",
       "      <td>76.322601</td>\n",
       "      <td>169</td>\n",
       "      <td>643.599976</td>\n",
       "      <td>0.109032</td>\n",
       "      <td>5501.954590</td>\n",
       "      <td>18.697226</td>\n",
       "      <td>8.978000</td>\n",
       "      <td>30.000002</td>\n",
       "      <td>636.299988</td>\n",
       "      <td>650.900024</td>\n",
       "    </tr>\n",
       "    <tr>\n",
       "      <th>3</th>\n",
       "      <td>4</td>\n",
       "      <td>61457</td>\n",
       "      <td>Butte</td>\n",
       "      <td>Golden Feather Union Elementary</td>\n",
       "      <td>KK-08</td>\n",
       "      <td>243</td>\n",
       "      <td>14.000000</td>\n",
       "      <td>36.475399</td>\n",
       "      <td>77.049202</td>\n",
       "      <td>85</td>\n",
       "      <td>647.700012</td>\n",
       "      <td>0.349794</td>\n",
       "      <td>7101.831055</td>\n",
       "      <td>17.357143</td>\n",
       "      <td>8.978000</td>\n",
       "      <td>0.000000</td>\n",
       "      <td>651.900024</td>\n",
       "      <td>643.500000</td>\n",
       "    </tr>\n",
       "    <tr>\n",
       "      <th>4</th>\n",
       "      <td>5</td>\n",
       "      <td>61523</td>\n",
       "      <td>Butte</td>\n",
       "      <td>Palermo Union Elementary</td>\n",
       "      <td>KK-08</td>\n",
       "      <td>1335</td>\n",
       "      <td>71.500000</td>\n",
       "      <td>33.108601</td>\n",
       "      <td>78.427002</td>\n",
       "      <td>171</td>\n",
       "      <td>640.849976</td>\n",
       "      <td>0.128090</td>\n",
       "      <td>5235.987793</td>\n",
       "      <td>18.671329</td>\n",
       "      <td>9.080333</td>\n",
       "      <td>13.857677</td>\n",
       "      <td>641.799988</td>\n",
       "      <td>639.900024</td>\n",
       "    </tr>\n",
       "    <tr>\n",
       "      <th>5</th>\n",
       "      <td>6</td>\n",
       "      <td>62042</td>\n",
       "      <td>Fresno</td>\n",
       "      <td>Burrel Union Elementary</td>\n",
       "      <td>KK-08</td>\n",
       "      <td>137</td>\n",
       "      <td>6.400000</td>\n",
       "      <td>12.318800</td>\n",
       "      <td>86.956497</td>\n",
       "      <td>25</td>\n",
       "      <td>605.550049</td>\n",
       "      <td>0.182482</td>\n",
       "      <td>5580.146973</td>\n",
       "      <td>21.406250</td>\n",
       "      <td>10.415000</td>\n",
       "      <td>12.408759</td>\n",
       "      <td>605.700012</td>\n",
       "      <td>605.400024</td>\n",
       "    </tr>\n",
       "    <tr>\n",
       "      <th>6</th>\n",
       "      <td>7</td>\n",
       "      <td>68536</td>\n",
       "      <td>San Joaquin</td>\n",
       "      <td>Holt Union Elementary</td>\n",
       "      <td>KK-08</td>\n",
       "      <td>195</td>\n",
       "      <td>10.000000</td>\n",
       "      <td>12.903200</td>\n",
       "      <td>94.623703</td>\n",
       "      <td>28</td>\n",
       "      <td>606.750000</td>\n",
       "      <td>0.143590</td>\n",
       "      <td>5253.331055</td>\n",
       "      <td>19.500000</td>\n",
       "      <td>6.577000</td>\n",
       "      <td>68.717949</td>\n",
       "      <td>604.500000</td>\n",
       "      <td>609.000000</td>\n",
       "    </tr>\n",
       "    <tr>\n",
       "      <th>7</th>\n",
       "      <td>8</td>\n",
       "      <td>63834</td>\n",
       "      <td>Kern</td>\n",
       "      <td>Vineland Elementary</td>\n",
       "      <td>KK-08</td>\n",
       "      <td>888</td>\n",
       "      <td>42.500000</td>\n",
       "      <td>18.806299</td>\n",
       "      <td>100.000000</td>\n",
       "      <td>66</td>\n",
       "      <td>609.000000</td>\n",
       "      <td>0.074324</td>\n",
       "      <td>4565.746094</td>\n",
       "      <td>20.894117</td>\n",
       "      <td>8.174000</td>\n",
       "      <td>46.959461</td>\n",
       "      <td>605.500000</td>\n",
       "      <td>612.500000</td>\n",
       "    </tr>\n",
       "    <tr>\n",
       "      <th>8</th>\n",
       "      <td>9</td>\n",
       "      <td>62331</td>\n",
       "      <td>Fresno</td>\n",
       "      <td>Orange Center Elementary</td>\n",
       "      <td>KK-08</td>\n",
       "      <td>379</td>\n",
       "      <td>19.000000</td>\n",
       "      <td>32.189999</td>\n",
       "      <td>93.139801</td>\n",
       "      <td>35</td>\n",
       "      <td>612.500000</td>\n",
       "      <td>0.092348</td>\n",
       "      <td>5355.548340</td>\n",
       "      <td>19.947369</td>\n",
       "      <td>7.385000</td>\n",
       "      <td>30.079157</td>\n",
       "      <td>608.900024</td>\n",
       "      <td>616.099976</td>\n",
       "    </tr>\n",
       "    <tr>\n",
       "      <th>9</th>\n",
       "      <td>10</td>\n",
       "      <td>67306</td>\n",
       "      <td>Sacramento</td>\n",
       "      <td>Del Paso Heights Elementary</td>\n",
       "      <td>KK-06</td>\n",
       "      <td>2247</td>\n",
       "      <td>108.000000</td>\n",
       "      <td>78.994202</td>\n",
       "      <td>87.316399</td>\n",
       "      <td>0</td>\n",
       "      <td>612.650024</td>\n",
       "      <td>0.000000</td>\n",
       "      <td>5036.211426</td>\n",
       "      <td>20.805555</td>\n",
       "      <td>11.613333</td>\n",
       "      <td>40.275921</td>\n",
       "      <td>611.900024</td>\n",
       "      <td>613.400024</td>\n",
       "    </tr>\n",
       "  </tbody>\n",
       "</table>\n",
       "</div>"
      ],
      "text/plain": [
       "   Unnamed: 0  distcod       county                         district grspan  \\\n",
       "0           1    75119      Alameda               Sunol Glen Unified  KK-08   \n",
       "1           2    61499        Butte             Manzanita Elementary  KK-08   \n",
       "2           3    61549        Butte      Thermalito Union Elementary  KK-08   \n",
       "3           4    61457        Butte  Golden Feather Union Elementary  KK-08   \n",
       "4           5    61523        Butte         Palermo Union Elementary  KK-08   \n",
       "5           6    62042       Fresno          Burrel Union Elementary  KK-08   \n",
       "6           7    68536  San Joaquin            Holt Union Elementary  KK-08   \n",
       "7           8    63834         Kern              Vineland Elementary  KK-08   \n",
       "8           9    62331       Fresno         Orange Center Elementary  KK-08   \n",
       "9          10    67306   Sacramento      Del Paso Heights Elementary  KK-06   \n",
       "\n",
       "   enrltot    teachers    calwpct     mealpct  computer     testscr   compstu  \\\n",
       "0      195   10.900000   0.510200    2.040800        67  690.799988  0.343590   \n",
       "1      240   11.150000  15.416700   47.916698       101  661.200012  0.420833   \n",
       "2     1550   82.900002  55.032299   76.322601       169  643.599976  0.109032   \n",
       "3      243   14.000000  36.475399   77.049202        85  647.700012  0.349794   \n",
       "4     1335   71.500000  33.108601   78.427002       171  640.849976  0.128090   \n",
       "5      137    6.400000  12.318800   86.956497        25  605.550049  0.182482   \n",
       "6      195   10.000000  12.903200   94.623703        28  606.750000  0.143590   \n",
       "7      888   42.500000  18.806299  100.000000        66  609.000000  0.074324   \n",
       "8      379   19.000000  32.189999   93.139801        35  612.500000  0.092348   \n",
       "9     2247  108.000000  78.994202   87.316399         0  612.650024  0.000000   \n",
       "\n",
       "       expnstu        str     avginc      elpct     readscr     mathscr  \n",
       "0  6384.911133  17.889910  22.690001   0.000000  691.599976  690.000000  \n",
       "1  5099.380859  21.524664   9.824000   4.583333  660.500000  661.900024  \n",
       "2  5501.954590  18.697226   8.978000  30.000002  636.299988  650.900024  \n",
       "3  7101.831055  17.357143   8.978000   0.000000  651.900024  643.500000  \n",
       "4  5235.987793  18.671329   9.080333  13.857677  641.799988  639.900024  \n",
       "5  5580.146973  21.406250  10.415000  12.408759  605.700012  605.400024  \n",
       "6  5253.331055  19.500000   6.577000  68.717949  604.500000  609.000000  \n",
       "7  4565.746094  20.894117   8.174000  46.959461  605.500000  612.500000  \n",
       "8  5355.548340  19.947369   7.385000  30.079157  608.900024  616.099976  \n",
       "9  5036.211426  20.805555  11.613333  40.275921  611.900024  613.400024  "
      ]
     },
     "execution_count": 2,
     "metadata": {},
     "output_type": "execute_result"
    }
   ],
   "source": [
    "cts = pd.read_csv('https://vincentarelbundock.github.io/Rdatasets/csv/Ecdat/Caschool.csv')\n",
    "cts.head(10)"
   ]
  },
  {
   "cell_type": "markdown",
   "metadata": {},
   "source": [
    "### 1.1 Visualize the univariate distribution of the target feature and each of the three continuous explanatory variables that you think are likely to have a relationship with the target feature. "
   ]
  },
  {
   "cell_type": "code",
   "execution_count": 3,
   "metadata": {},
   "outputs": [
    {
     "data": {
      "text/plain": [
       "<matplotlib.axes._subplots.AxesSubplot at 0x7fab561005d0>"
      ]
     },
     "execution_count": 3,
     "metadata": {},
     "output_type": "execute_result"
    },
    {
     "data": {
      "image/png": "[encoded data removed]",
      "text/plain": [
       "<Figure size 432x288 with 1 Axes>"
      ]
     },
     "metadata": {
      "needs_background": "light"
     },
     "output_type": "display_data"
    }
   ],
   "source": [
    "sns.distplot(cts['testscr'],bins=30)"
   ]
  },
  {
   "cell_type": "code",
   "execution_count": 4,
   "metadata": {},
   "outputs": [
    {
     "data": {
      "text/plain": [
       "<matplotlib.axes._subplots.AxesSubplot at 0x7fab56334950>"
      ]
     },
     "execution_count": 4,
     "metadata": {},
     "output_type": "execute_result"
    },
    {
     "data": {
      "image/png": "[encoded data removed]",
      "text/plain": [
       "<Figure size 432x288 with 1 Axes>"
      ]
     },
     "metadata": {
      "needs_background": "light"
     },
     "output_type": "display_data"
    }
   ],
   "source": [
    "#choose \"avginc\", district average income, as one of the explanatory variables\n",
    "sns.distplot(cts['expnstu'],bins=30)"
   ]
  },
  {
   "cell_type": "code",
   "execution_count": 5,
   "metadata": {
    "scrolled": true
   },
   "outputs": [
    {
     "data": {
      "text/plain": [
       "<matplotlib.axes._subplots.AxesSubplot at 0x7fab5646d0d0>"
      ]
     },
     "execution_count": 5,
     "metadata": {},
     "output_type": "execute_result"
    },
    {
     "data": {
      "image/png": "[encoded data removed]",
      "text/plain": [
       "<Figure size 432x288 with 1 Axes>"
      ]
     },
     "metadata": {
      "needs_background": "light"
     },
     "output_type": "display_data"
    }
   ],
   "source": [
    "#choose \"mealpct\", percent qualifying for reduced-price lunch, as another of the explanatory variables\n",
    "sns.distplot(cts['mealpct'],bins=30)"
   ]
  },
  {
   "cell_type": "code",
   "execution_count": 6,
   "metadata": {},
   "outputs": [
    {
     "data": {
      "text/plain": [
       "<matplotlib.axes._subplots.AxesSubplot at 0x7fab565c2d10>"
      ]
     },
     "execution_count": 6,
     "metadata": {},
     "output_type": "execute_result"
    },
    {
     "data": {
      "image/png": "[encoded data removed]",
      "text/plain": [
       "<Figure size 432x288 with 1 Axes>"
      ]
     },
     "metadata": {
      "needs_background": "light"
     },
     "output_type": "display_data"
    }
   ],
   "source": [
    "#choose \"compstu\", computer per student, as another of the explanatory variables\n",
    "sns.distplot(cts['compstu'],bins=30)"
   ]
  },
  {
   "cell_type": "markdown",
   "metadata": {},
   "source": [
    "### 1.2 Visualize the dependency of the target on each feature from 1.1."
   ]
  },
  {
   "cell_type": "code",
   "execution_count": 7,
   "metadata": {
    "scrolled": true
   },
   "outputs": [
    {
     "data": {
      "text/plain": [
       "<seaborn.axisgrid.PairGrid at 0x7fab561f1250>"
      ]
     },
     "execution_count": 7,
     "metadata": {},
     "output_type": "execute_result"
    },
    {
     "data": {
      "image/png": "[encoded data removed]",
      "text/plain": [
       "<Figure size 720x720 with 20 Axes>"
      ]
     },
     "metadata": {
      "needs_background": "light"
     },
     "output_type": "display_data"
    }
   ],
   "source": [
    "#use sns.pairplot to generate the correlation between each two variables simultaneously \n",
    "sns.pairplot(data=cts[['testscr','avginc','mealpct','compstu']])"
   ]
  },
  {
   "cell_type": "markdown",
   "metadata": {},
   "source": [
    "### 1.3 Split data in training and test set. Build models that evaluate the relationship between all available X variables in the California test dataset and the target variable. Evaluate KNN for regression, Linear Regression (OLS), Ridge, and Lasso using cross-validation with the default parameters. Does scaling the data with the StandardScaler help?"
   ]
  },
  {
   "cell_type": "code",
   "execution_count": 8,
   "metadata": {},
   "outputs": [],
   "source": [
    "from sklearn.preprocessing import StandardScaler\n",
    "from sklearn.model_selection import train_test_split\n",
    "from sklearn.model_selection import cross_val_score\n",
    "\n",
    "from sklearn.linear_model import Ridge\n",
    "from sklearn.linear_model import Lasso\n",
    "from sklearn.linear_model import LogisticRegression\n",
    "from sklearn.linear_model import LinearRegression\n",
    "from sklearn.neighbors import KNeighborsRegressor"
   ]
  },
  {
   "cell_type": "code",
   "execution_count": 9,
   "metadata": {
    "scrolled": true
   },
   "outputs": [
    {
     "data": {
      "text/html": [
       "<div>\n",
       "<style scoped>\n",
       "    .dataframe tbody tr th:only-of-type {\n",
       "        vertical-align: middle;\n",
       "    }\n",
       "\n",
       "    .dataframe tbody tr th {\n",
       "        vertical-align: top;\n",
       "    }\n",
       "\n",
       "    .dataframe thead th {\n",
       "        text-align: right;\n",
       "    }\n",
       "</style>\n",
       "<table border=\"1\" class=\"dataframe\">\n",
       "  <thead>\n",
       "    <tr style=\"text-align: right;\">\n",
       "      <th></th>\n",
       "      <th>enrltot</th>\n",
       "      <th>teachers</th>\n",
       "      <th>calwpct</th>\n",
       "      <th>mealpct</th>\n",
       "      <th>computer</th>\n",
       "      <th>testscr</th>\n",
       "      <th>compstu</th>\n",
       "      <th>expnstu</th>\n",
       "      <th>str</th>\n",
       "      <th>avginc</th>\n",
       "      <th>elpct</th>\n",
       "    </tr>\n",
       "  </thead>\n",
       "  <tbody>\n",
       "    <tr>\n",
       "      <th>0</th>\n",
       "      <td>195</td>\n",
       "      <td>10.900000</td>\n",
       "      <td>0.510200</td>\n",
       "      <td>2.040800</td>\n",
       "      <td>67</td>\n",
       "      <td>690.799988</td>\n",
       "      <td>0.343590</td>\n",
       "      <td>6384.911133</td>\n",
       "      <td>17.889910</td>\n",
       "      <td>22.690001</td>\n",
       "      <td>0.000000</td>\n",
       "    </tr>\n",
       "    <tr>\n",
       "      <th>1</th>\n",
       "      <td>240</td>\n",
       "      <td>11.150000</td>\n",
       "      <td>15.416700</td>\n",
       "      <td>47.916698</td>\n",
       "      <td>101</td>\n",
       "      <td>661.200012</td>\n",
       "      <td>0.420833</td>\n",
       "      <td>5099.380859</td>\n",
       "      <td>21.524664</td>\n",
       "      <td>9.824000</td>\n",
       "      <td>4.583333</td>\n",
       "    </tr>\n",
       "    <tr>\n",
       "      <th>2</th>\n",
       "      <td>1550</td>\n",
       "      <td>82.900002</td>\n",
       "      <td>55.032299</td>\n",
       "      <td>76.322601</td>\n",
       "      <td>169</td>\n",
       "      <td>643.599976</td>\n",
       "      <td>0.109032</td>\n",
       "      <td>5501.954590</td>\n",
       "      <td>18.697226</td>\n",
       "      <td>8.978000</td>\n",
       "      <td>30.000002</td>\n",
       "    </tr>\n",
       "    <tr>\n",
       "      <th>3</th>\n",
       "      <td>243</td>\n",
       "      <td>14.000000</td>\n",
       "      <td>36.475399</td>\n",
       "      <td>77.049202</td>\n",
       "      <td>85</td>\n",
       "      <td>647.700012</td>\n",
       "      <td>0.349794</td>\n",
       "      <td>7101.831055</td>\n",
       "      <td>17.357143</td>\n",
       "      <td>8.978000</td>\n",
       "      <td>0.000000</td>\n",
       "    </tr>\n",
       "    <tr>\n",
       "      <th>4</th>\n",
       "      <td>1335</td>\n",
       "      <td>71.500000</td>\n",
       "      <td>33.108601</td>\n",
       "      <td>78.427002</td>\n",
       "      <td>171</td>\n",
       "      <td>640.849976</td>\n",
       "      <td>0.128090</td>\n",
       "      <td>5235.987793</td>\n",
       "      <td>18.671329</td>\n",
       "      <td>9.080333</td>\n",
       "      <td>13.857677</td>\n",
       "    </tr>\n",
       "    <tr>\n",
       "      <th>5</th>\n",
       "      <td>137</td>\n",
       "      <td>6.400000</td>\n",
       "      <td>12.318800</td>\n",
       "      <td>86.956497</td>\n",
       "      <td>25</td>\n",
       "      <td>605.550049</td>\n",
       "      <td>0.182482</td>\n",
       "      <td>5580.146973</td>\n",
       "      <td>21.406250</td>\n",
       "      <td>10.415000</td>\n",
       "      <td>12.408759</td>\n",
       "    </tr>\n",
       "    <tr>\n",
       "      <th>6</th>\n",
       "      <td>195</td>\n",
       "      <td>10.000000</td>\n",
       "      <td>12.903200</td>\n",
       "      <td>94.623703</td>\n",
       "      <td>28</td>\n",
       "      <td>606.750000</td>\n",
       "      <td>0.143590</td>\n",
       "      <td>5253.331055</td>\n",
       "      <td>19.500000</td>\n",
       "      <td>6.577000</td>\n",
       "      <td>68.717949</td>\n",
       "    </tr>\n",
       "    <tr>\n",
       "      <th>7</th>\n",
       "      <td>888</td>\n",
       "      <td>42.500000</td>\n",
       "      <td>18.806299</td>\n",
       "      <td>100.000000</td>\n",
       "      <td>66</td>\n",
       "      <td>609.000000</td>\n",
       "      <td>0.074324</td>\n",
       "      <td>4565.746094</td>\n",
       "      <td>20.894117</td>\n",
       "      <td>8.174000</td>\n",
       "      <td>46.959461</td>\n",
       "    </tr>\n",
       "    <tr>\n",
       "      <th>8</th>\n",
       "      <td>379</td>\n",
       "      <td>19.000000</td>\n",
       "      <td>32.189999</td>\n",
       "      <td>93.139801</td>\n",
       "      <td>35</td>\n",
       "      <td>612.500000</td>\n",
       "      <td>0.092348</td>\n",
       "      <td>5355.548340</td>\n",
       "      <td>19.947369</td>\n",
       "      <td>7.385000</td>\n",
       "      <td>30.079157</td>\n",
       "    </tr>\n",
       "    <tr>\n",
       "      <th>9</th>\n",
       "      <td>2247</td>\n",
       "      <td>108.000000</td>\n",
       "      <td>78.994202</td>\n",
       "      <td>87.316399</td>\n",
       "      <td>0</td>\n",
       "      <td>612.650024</td>\n",
       "      <td>0.000000</td>\n",
       "      <td>5036.211426</td>\n",
       "      <td>20.805555</td>\n",
       "      <td>11.613333</td>\n",
       "      <td>40.275921</td>\n",
       "    </tr>\n",
       "  </tbody>\n",
       "</table>\n",
       "</div>"
      ],
      "text/plain": [
       "   enrltot    teachers    calwpct     mealpct  computer     testscr   compstu  \\\n",
       "0      195   10.900000   0.510200    2.040800        67  690.799988  0.343590   \n",
       "1      240   11.150000  15.416700   47.916698       101  661.200012  0.420833   \n",
       "2     1550   82.900002  55.032299   76.322601       169  643.599976  0.109032   \n",
       "3      243   14.000000  36.475399   77.049202        85  647.700012  0.349794   \n",
       "4     1335   71.500000  33.108601   78.427002       171  640.849976  0.128090   \n",
       "5      137    6.400000  12.318800   86.956497        25  605.550049  0.182482   \n",
       "6      195   10.000000  12.903200   94.623703        28  606.750000  0.143590   \n",
       "7      888   42.500000  18.806299  100.000000        66  609.000000  0.074324   \n",
       "8      379   19.000000  32.189999   93.139801        35  612.500000  0.092348   \n",
       "9     2247  108.000000  78.994202   87.316399         0  612.650024  0.000000   \n",
       "\n",
       "       expnstu        str     avginc      elpct  \n",
       "0  6384.911133  17.889910  22.690001   0.000000  \n",
       "1  5099.380859  21.524664   9.824000   4.583333  \n",
       "2  5501.954590  18.697226   8.978000  30.000002  \n",
       "3  7101.831055  17.357143   8.978000   0.000000  \n",
       "4  5235.987793  18.671329   9.080333  13.857677  \n",
       "5  5580.146973  21.406250  10.415000  12.408759  \n",
       "6  5253.331055  19.500000   6.577000  68.717949  \n",
       "7  4565.746094  20.894117   8.174000  46.959461  \n",
       "8  5355.548340  19.947369   7.385000  30.079157  \n",
       "9  5036.211426  20.805555  11.613333  40.275921  "
      ]
     },
     "execution_count": 9,
     "metadata": {},
     "output_type": "execute_result"
    }
   ],
   "source": [
    "#Split data in training and test set\n",
    "cts1 = cts.iloc[:,5:-2]\n",
    "y = cts1['testscr']\n",
    "X = cts1.loc[:, cts1.columns != 'testscr']\n",
    "X_train, X_test, y_train, y_test = train_test_split(X, y, random_state=42) \n",
    "cts1.head(10)"
   ]
  },
  {
   "cell_type": "markdown",
   "metadata": {},
   "source": [
    "##### *apply the models without preprocessing the data*"
   ]
  },
  {
   "cell_type": "code",
   "execution_count": 10,
   "metadata": {},
   "outputs": [
    {
     "name": "stdout",
     "output_type": "stream",
     "text": [
      "accuracy of KNN: 0.085\n",
      "accuracy of Linear Regression: 0.807\n",
      "accuracy of Ridge: 0.807\n",
      "accuracy of Lasso: 0.807\n"
     ]
    }
   ],
   "source": [
    "#predict X_test and y_test, show the accuracy of prediction\n",
    "knn = KNeighborsRegressor()\n",
    "knn.fit(X_train,y_train)\n",
    "print(\"accuracy of KNN: {:.3f}\".format(knn.score(X_test, y_test)))\n",
    "\n",
    "lr = LinearRegression()\n",
    "lr.fit(X_train,y_train)\n",
    "print(\"accuracy of Linear Regression: {:.3f}\".format(lr.score(X_test, y_test)))\n",
    "\n",
    "ridge = Ridge(max_iter=10000)\n",
    "ridge.fit(X_train,y_train)\n",
    "print(\"accuracy of Ridge: {:.3f}\".format(ridge.score(X_test, y_test)))\n",
    "\n",
    "lasso = Lasso(max_iter=10000)\n",
    "lasso.fit(X_train,y_train)\n",
    "print(\"accuracy of Lasso: {:.3f}\".format(lasso.score(X_test, y_test)))"
   ]
  },
  {
   "cell_type": "code",
   "execution_count": 11,
   "metadata": {},
   "outputs": [
    {
     "name": "stdout",
     "output_type": "stream",
     "text": [
      "Cross-Validation score of KNN: -0.054\n",
      "Cross-Validation score of Linear Regression: 0.781\n",
      "Cross-Validation score of Ridge: 0.783\n",
      "Cross-Validation score of Lasso: 0.787\n"
     ]
    }
   ],
   "source": [
    "#Cross-Validation\n",
    "print(\"Cross-Validation score of KNN: {:.3f}\".format(np.mean(cross_val_score(KNeighborsRegressor(), X_train, y_train))))\n",
    "print(\"Cross-Validation score of Linear Regression: {:.3f}\".format(np.mean(cross_val_score(LinearRegression(), X_train, y_train))))\n",
    "print(\"Cross-Validation score of Ridge: {:.3f}\".format(np.mean(cross_val_score(Ridge(max_iter=10000), X_train, y_train))))\n",
    "print(\"Cross-Validation score of Lasso: {:.3f}\".format(np.mean(cross_val_score(Lasso(max_iter=10000), X_train, y_train))))\n",
    "      "
   ]
  },
  {
   "cell_type": "markdown",
   "metadata": {},
   "source": [
    "##### *preprocessing the data before apply the model*"
   ]
  },
  {
   "cell_type": "code",
   "execution_count": 12,
   "metadata": {},
   "outputs": [],
   "source": [
    "scaler = StandardScaler()\n",
    "scaler.fit(X_train) \n",
    "X_train_scaled = scaler.transform(X_train)\n",
    "X_test_scaled = scaler.transform(X_test)"
   ]
  },
  {
   "cell_type": "code",
   "execution_count": 13,
   "metadata": {
    "scrolled": true
   },
   "outputs": [
    {
     "name": "stdout",
     "output_type": "stream",
     "text": [
      "accuracy of KNN: 0.769\n",
      "accuracy of Linear Regression: 0.807\n",
      "accuracy of Ridge: 0.807\n",
      "accuracy of Lasso: 0.786\n"
     ]
    }
   ],
   "source": [
    "#predict X_test and y_test, show the accuracy of prediction\n",
    "knn.fit(X_train_scaled,y_train)\n",
    "print(\"accuracy of KNN: {:.3f}\".format(knn.score(X_test_scaled, y_test)))\n",
    "\n",
    "lr.fit(X_train_scaled,y_train)\n",
    "print(\"accuracy of Linear Regression: {:.3f}\".format(lr.score(X_test_scaled, y_test)))\n",
    "\n",
    "ridge.fit(X_train_scaled,y_train)\n",
    "print(\"accuracy of Ridge: {:.3f}\".format(ridge.score(X_test_scaled, y_test)))\n",
    "\n",
    "lasso.fit(X_train_scaled,y_train)\n",
    "print(\"accuracy of Lasso: {:.3f}\".format(lasso.score(X_test_scaled, y_test)))"
   ]
  },
  {
   "cell_type": "code",
   "execution_count": 14,
   "metadata": {},
   "outputs": [
    {
     "name": "stdout",
     "output_type": "stream",
     "text": [
      "Cross-Validation score of KNN: 0.711\n",
      "Cross-Validation score of Linear Regression: 0.781\n",
      "Cross-Validation score of Ridge: 0.783\n",
      "Cross-Validation score of Lasso: 0.784\n"
     ]
    }
   ],
   "source": [
    "#Cross-Validation\n",
    "print(\"Cross-Validation score of KNN: {:.3f}\".format(np.mean(cross_val_score(KNeighborsRegressor(), X_train_scaled, y_train))))\n",
    "print(\"Cross-Validation score of Linear Regression: {:.3f}\".format(np.mean(cross_val_score(LinearRegression(), X_train_scaled, y_train))))\n",
    "print(\"Cross-Validation score of Ridge: {:.3f}\".format(np.mean(cross_val_score(Ridge(), X_train_scaled, y_train))))\n",
    "print(\"Cross-Validation score of Lasso: {:.3f}\".format(np.mean(cross_val_score(Lasso(), X_train_scaled, y_train))))"
   ]
  },
  {
   "cell_type": "markdown",
   "metadata": {},
   "source": [
    "#### *Conclusion 1.3*\n",
    "\n",
    "Scaling the data especially helps KNN Regression to improve its model accuracy, the accuracy of prediction increases from 0.08 to 0.77, and cross_validation R-squared increases from -0.05 to 0.77.\n",
    "But it does not fluence significantly the accuracy of linear regression, ridge or lasso, the accuracy of prediction and cross_validation R-squared only change slightly."
   ]
  },
  {
   "cell_type": "markdown",
   "metadata": {},
   "source": [
    "### 1.4 Tune the parameters of the models where possible using GridSearchCV. Do the results improve?"
   ]
  },
  {
   "cell_type": "code",
   "execution_count": 15,
   "metadata": {},
   "outputs": [],
   "source": [
    "from sklearn.model_selection import GridSearchCV"
   ]
  },
  {
   "cell_type": "code",
   "execution_count": 16,
   "metadata": {},
   "outputs": [
    {
     "name": "stdout",
     "output_type": "stream",
     "text": [
      "best mean cross-validation score of KNN Regression: 0.721\n",
      "best mean cross-validation score of Ridge Regression: 0.786\n",
      "best mean cross-validation score of Lasso Regression: 0.788\n"
     ]
    }
   ],
   "source": [
    "#knn\n",
    "param_grid = {'n_neighbors': np.arange(1, 50, 1)}\n",
    "grid_knn = GridSearchCV(KNeighborsRegressor(), param_grid=param_grid, cv=5)\n",
    "grid_knn.fit(X_train_scaled, y_train)\n",
    "print(\"best mean cross-validation score of KNN Regression: {:.3f}\".format(grid_knn.best_score_))\n",
    "\n",
    "#ridge\n",
    "alpha = {'alpha': np.arange(1, 20, 1)}\n",
    "grid_ridge = GridSearchCV(Ridge(),param_grid=alpha, cv=5)\n",
    "grid_ridge.fit(X_train_scaled, y_train)\n",
    "print(\"best mean cross-validation score of Ridge Regression: {:.3f}\".format(grid_ridge.best_score_))\n",
    "\n",
    "#lasso\n",
    "alpha_l = {'alpha': np.arange(0.01, 1, 0.01)}\n",
    "grid_lasso = GridSearchCV(Lasso(),param_grid=alpha_l, cv=5)\n",
    "grid_lasso.fit(X_train_scaled, y_train)\n",
    "print(\"best mean cross-validation score of Lasso Regression: {:.3f}\".format(grid_lasso.best_score_))"
   ]
  },
  {
   "cell_type": "markdown",
   "metadata": {},
   "source": [
    "#### *Conclusion 1.4*\n",
    "\n",
    "GridSearchCV method can be applied to KNN, Ridge and Lasso regression. The cross-validation scores improve slightly : from 0.711 to 0.721 for KNN, from 0.783 to 0.786 for Ridge, from 0.784 to 0.788 for Lasso."
   ]
  },
  {
   "cell_type": "markdown",
   "metadata": {},
   "source": [
    "### 1.5 Compare the coefficients of your two best linear models (not knn), do they agree on which features are important?"
   ]
  },
  {
   "cell_type": "code",
   "execution_count": 17,
   "metadata": {},
   "outputs": [
    {
     "name": "stdout",
     "output_type": "stream",
     "text": [
      "grid_ridge.best_params_: {'alpha': 17}\n",
      "grid_lasso.best_params_: {'alpha': 0.35000000000000003}\n"
     ]
    }
   ],
   "source": [
    "# Because the predictions of lasso and ridge are more accurate than that of linear regression, so I choose these two as my two best lienar models\n",
    "print(\"grid_ridge.best_params_: {}\".format(grid_ridge.best_params_))\n",
    "print(\"grid_lasso.best_params_: {}\".format(grid_lasso.best_params_))"
   ]
  },
  {
   "cell_type": "code",
   "execution_count": 18,
   "metadata": {},
   "outputs": [
    {
     "name": "stdout",
     "output_type": "stream",
     "text": [
      "accuracy of Ridge: 0.802\n",
      "accuracy of Lasso: 0.801\n"
     ]
    }
   ],
   "source": [
    "ridge_best = Ridge(alpha=17)\n",
    "ridge_best.fit(X_train_scaled,y_train)\n",
    "print(\"accuracy of Ridge: {:.3f}\".format(ridge_best.score(X_test_scaled, y_test)))\n",
    "\n",
    "lasso_best = Lasso(alpha=0.35)\n",
    "lasso_best.fit(X_train_scaled,y_train)\n",
    "print(\"accuracy of Lasso: {:.3f}\".format(lasso_best.score(X_test_scaled, y_test)))"
   ]
  },
  {
   "cell_type": "code",
   "execution_count": 19,
   "metadata": {},
   "outputs": [
    {
     "data": {
      "text/html": [
       "<div>\n",
       "<style scoped>\n",
       "    .dataframe tbody tr th:only-of-type {\n",
       "        vertical-align: middle;\n",
       "    }\n",
       "\n",
       "    .dataframe tbody tr th {\n",
       "        vertical-align: top;\n",
       "    }\n",
       "\n",
       "    .dataframe thead th {\n",
       "        text-align: right;\n",
       "    }\n",
       "</style>\n",
       "<table border=\"1\" class=\"dataframe\">\n",
       "  <thead>\n",
       "    <tr style=\"text-align: right;\">\n",
       "      <th></th>\n",
       "      <th>0</th>\n",
       "      <th>Lasso_Coefs</th>\n",
       "      <th>Ridge_Coefs</th>\n",
       "    </tr>\n",
       "  </thead>\n",
       "  <tbody>\n",
       "    <tr>\n",
       "      <th>0</th>\n",
       "      <td>enrltot</td>\n",
       "      <td>-0.000000</td>\n",
       "      <td>-0.280604</td>\n",
       "    </tr>\n",
       "    <tr>\n",
       "      <th>1</th>\n",
       "      <td>teachers</td>\n",
       "      <td>-0.000000</td>\n",
       "      <td>-0.274729</td>\n",
       "    </tr>\n",
       "    <tr>\n",
       "      <th>2</th>\n",
       "      <td>calwpct</td>\n",
       "      <td>-0.718432</td>\n",
       "      <td>-1.863956</td>\n",
       "    </tr>\n",
       "    <tr>\n",
       "      <th>3</th>\n",
       "      <td>mealpct</td>\n",
       "      <td>-10.142608</td>\n",
       "      <td>-8.343486</td>\n",
       "    </tr>\n",
       "    <tr>\n",
       "      <th>4</th>\n",
       "      <td>computer</td>\n",
       "      <td>-0.000000</td>\n",
       "      <td>0.671629</td>\n",
       "    </tr>\n",
       "    <tr>\n",
       "      <th>5</th>\n",
       "      <td>compstu</td>\n",
       "      <td>0.000000</td>\n",
       "      <td>-0.009162</td>\n",
       "    </tr>\n",
       "    <tr>\n",
       "      <th>6</th>\n",
       "      <td>expnstu</td>\n",
       "      <td>0.903821</td>\n",
       "      <td>1.090739</td>\n",
       "    </tr>\n",
       "    <tr>\n",
       "      <th>7</th>\n",
       "      <td>str</td>\n",
       "      <td>-0.485221</td>\n",
       "      <td>-0.643642</td>\n",
       "    </tr>\n",
       "    <tr>\n",
       "      <th>8</th>\n",
       "      <td>avginc</td>\n",
       "      <td>3.594506</td>\n",
       "      <td>3.990231</td>\n",
       "    </tr>\n",
       "    <tr>\n",
       "      <th>9</th>\n",
       "      <td>elpct</td>\n",
       "      <td>-3.127555</td>\n",
       "      <td>-3.933905</td>\n",
       "    </tr>\n",
       "  </tbody>\n",
       "</table>\n",
       "</div>"
      ],
      "text/plain": [
       "          0  Lasso_Coefs  Ridge_Coefs\n",
       "0   enrltot    -0.000000    -0.280604\n",
       "1  teachers    -0.000000    -0.274729\n",
       "2   calwpct    -0.718432    -1.863956\n",
       "3   mealpct   -10.142608    -8.343486\n",
       "4  computer    -0.000000     0.671629\n",
       "5   compstu     0.000000    -0.009162\n",
       "6   expnstu     0.903821     1.090739\n",
       "7       str    -0.485221    -0.643642\n",
       "8    avginc     3.594506     3.990231\n",
       "9     elpct    -3.127555    -3.933905"
      ]
     },
     "execution_count": 19,
     "metadata": {},
     "output_type": "execute_result"
    }
   ],
   "source": [
    "coef_table = pd.DataFrame(list(X_train.columns)).copy()\n",
    "coef_table.insert(len(coef_table.columns),\"Lasso_Coefs\",lasso_best.coef_.transpose())\n",
    "coef_table.insert(len(coef_table.columns),\"Ridge_Coefs\",ridge_best.coef_.transpose())\n",
    "coef_table"
   ]
  },
  {
   "cell_type": "markdown",
   "metadata": {},
   "source": [
    "#### *Conclusion 1.5*\n",
    "\n",
    "Both Lasso and Ridge agree on that mealpct, calwpct, expnstu, str, avginc, elpct are important."
   ]
  },
  {
   "cell_type": "markdown",
   "metadata": {},
   "source": [
    "### 1.6 Discuss which final model you would choose to predict new data"
   ]
  },
  {
   "cell_type": "markdown",
   "metadata": {},
   "source": [
    "I'd choose Lasso as my final model for two reasons. First, it renders a good accuracy of prediction, better than knn and linear regression, just slight worse than Ridge (a difference of 0.01). Second, it has a better interpretability, because it disregards insignificant features, which makes the model easier to interprete and more clean. In a model with a lot of insignificant features, it is more suitable than Ridge Regression."
   ]
  },
  {
   "cell_type": "markdown",
   "metadata": {},
   "source": [
    "## Part 2: Classification on red and white wine characteristics"
   ]
  },
  {
   "cell_type": "code",
   "execution_count": 20,
   "metadata": {},
   "outputs": [],
   "source": [
    "white = pd.read_csv('https://archive.ics.uci.edu/ml/machine-learning-databases/wine-quality/winequality-white.csv',sep=\";\")\n",
    "red = pd.read_csv('https://archive.ics.uci.edu/ml/machine-learning-databases/wine-quality/winequality-red.csv',sep=\";\")"
   ]
  },
  {
   "cell_type": "code",
   "execution_count": 21,
   "metadata": {},
   "outputs": [],
   "source": [
    "white['winetype'] = 0\n",
    "red['winetype'] = 1"
   ]
  },
  {
   "cell_type": "code",
   "execution_count": 22,
   "metadata": {},
   "outputs": [],
   "source": [
    "wine = pd.concat([white,red])"
   ]
  },
  {
   "cell_type": "markdown",
   "metadata": {},
   "source": [
    "### 2.1 Visualize the univariate distribution of the target feature and each of the three explanatory variables that you think are likely to have a relationship with the target feature.   \n",
    "\n"
   ]
  },
  {
   "cell_type": "code",
   "execution_count": 23,
   "metadata": {},
   "outputs": [
    {
     "data": {
      "text/html": [
       "<div>\n",
       "<style scoped>\n",
       "    .dataframe tbody tr th:only-of-type {\n",
       "        vertical-align: middle;\n",
       "    }\n",
       "\n",
       "    .dataframe tbody tr th {\n",
       "        vertical-align: top;\n",
       "    }\n",
       "\n",
       "    .dataframe thead th {\n",
       "        text-align: right;\n",
       "    }\n",
       "</style>\n",
       "<table border=\"1\" class=\"dataframe\">\n",
       "  <thead>\n",
       "    <tr style=\"text-align: right;\">\n",
       "      <th></th>\n",
       "      <th>fixed acidity</th>\n",
       "      <th>volatile acidity</th>\n",
       "      <th>citric acid</th>\n",
       "      <th>residual sugar</th>\n",
       "      <th>chlorides</th>\n",
       "      <th>free sulfur dioxide</th>\n",
       "      <th>total sulfur dioxide</th>\n",
       "      <th>density</th>\n",
       "      <th>pH</th>\n",
       "      <th>sulphates</th>\n",
       "      <th>alcohol</th>\n",
       "      <th>quality</th>\n",
       "      <th>winetype</th>\n",
       "    </tr>\n",
       "  </thead>\n",
       "  <tbody>\n",
       "    <tr>\n",
       "      <th>0</th>\n",
       "      <td>7.0</td>\n",
       "      <td>0.27</td>\n",
       "      <td>0.36</td>\n",
       "      <td>20.7</td>\n",
       "      <td>0.045</td>\n",
       "      <td>45.0</td>\n",
       "      <td>170.0</td>\n",
       "      <td>1.0010</td>\n",
       "      <td>3.00</td>\n",
       "      <td>0.45</td>\n",
       "      <td>8.8</td>\n",
       "      <td>6</td>\n",
       "      <td>0</td>\n",
       "    </tr>\n",
       "    <tr>\n",
       "      <th>1</th>\n",
       "      <td>6.3</td>\n",
       "      <td>0.30</td>\n",
       "      <td>0.34</td>\n",
       "      <td>1.6</td>\n",
       "      <td>0.049</td>\n",
       "      <td>14.0</td>\n",
       "      <td>132.0</td>\n",
       "      <td>0.9940</td>\n",
       "      <td>3.30</td>\n",
       "      <td>0.49</td>\n",
       "      <td>9.5</td>\n",
       "      <td>6</td>\n",
       "      <td>0</td>\n",
       "    </tr>\n",
       "    <tr>\n",
       "      <th>2</th>\n",
       "      <td>8.1</td>\n",
       "      <td>0.28</td>\n",
       "      <td>0.40</td>\n",
       "      <td>6.9</td>\n",
       "      <td>0.050</td>\n",
       "      <td>30.0</td>\n",
       "      <td>97.0</td>\n",
       "      <td>0.9951</td>\n",
       "      <td>3.26</td>\n",
       "      <td>0.44</td>\n",
       "      <td>10.1</td>\n",
       "      <td>6</td>\n",
       "      <td>0</td>\n",
       "    </tr>\n",
       "    <tr>\n",
       "      <th>3</th>\n",
       "      <td>7.2</td>\n",
       "      <td>0.23</td>\n",
       "      <td>0.32</td>\n",
       "      <td>8.5</td>\n",
       "      <td>0.058</td>\n",
       "      <td>47.0</td>\n",
       "      <td>186.0</td>\n",
       "      <td>0.9956</td>\n",
       "      <td>3.19</td>\n",
       "      <td>0.40</td>\n",
       "      <td>9.9</td>\n",
       "      <td>6</td>\n",
       "      <td>0</td>\n",
       "    </tr>\n",
       "    <tr>\n",
       "      <th>4</th>\n",
       "      <td>7.2</td>\n",
       "      <td>0.23</td>\n",
       "      <td>0.32</td>\n",
       "      <td>8.5</td>\n",
       "      <td>0.058</td>\n",
       "      <td>47.0</td>\n",
       "      <td>186.0</td>\n",
       "      <td>0.9956</td>\n",
       "      <td>3.19</td>\n",
       "      <td>0.40</td>\n",
       "      <td>9.9</td>\n",
       "      <td>6</td>\n",
       "      <td>0</td>\n",
       "    </tr>\n",
       "  </tbody>\n",
       "</table>\n",
       "</div>"
      ],
      "text/plain": [
       "   fixed acidity  volatile acidity  citric acid  residual sugar  chlorides  \\\n",
       "0            7.0              0.27         0.36            20.7      0.045   \n",
       "1            6.3              0.30         0.34             1.6      0.049   \n",
       "2            8.1              0.28         0.40             6.9      0.050   \n",
       "3            7.2              0.23         0.32             8.5      0.058   \n",
       "4            7.2              0.23         0.32             8.5      0.058   \n",
       "\n",
       "   free sulfur dioxide  total sulfur dioxide  density    pH  sulphates  \\\n",
       "0                 45.0                 170.0   1.0010  3.00       0.45   \n",
       "1                 14.0                 132.0   0.9940  3.30       0.49   \n",
       "2                 30.0                  97.0   0.9951  3.26       0.44   \n",
       "3                 47.0                 186.0   0.9956  3.19       0.40   \n",
       "4                 47.0                 186.0   0.9956  3.19       0.40   \n",
       "\n",
       "   alcohol  quality  winetype  \n",
       "0      8.8        6         0  \n",
       "1      9.5        6         0  \n",
       "2     10.1        6         0  \n",
       "3      9.9        6         0  \n",
       "4      9.9        6         0  "
      ]
     },
     "execution_count": 23,
     "metadata": {},
     "output_type": "execute_result"
    }
   ],
   "source": [
    "wine.head()"
   ]
  },
  {
   "cell_type": "code",
   "execution_count": 24,
   "metadata": {},
   "outputs": [
    {
     "data": {
      "text/plain": [
       "<matplotlib.axes._subplots.AxesSubplot at 0x7fab55b95ed0>"
      ]
     },
     "execution_count": 24,
     "metadata": {},
     "output_type": "execute_result"
    },
    {
     "data": {
      "image/png": "[encoded data removed]",
      "text/plain": [
       "<Figure size 432x288 with 1 Axes>"
      ]
     },
     "metadata": {
      "needs_background": "light"
     },
     "output_type": "display_data"
    }
   ],
   "source": [
    "sns.distplot(wine['winetype'],kde=False)"
   ]
  },
  {
   "cell_type": "code",
   "execution_count": 25,
   "metadata": {},
   "outputs": [
    {
     "data": {
      "text/plain": [
       "<matplotlib.axes._subplots.AxesSubplot at 0x7fab3a695450>"
      ]
     },
     "execution_count": 25,
     "metadata": {},
     "output_type": "execute_result"
    },
    {
     "data": {
      "image/png": "[encoded data removed]",
      "text/plain": [
       "<Figure size 432x288 with 1 Axes>"
      ]
     },
     "metadata": {
      "needs_background": "light"
     },
     "output_type": "display_data"
    }
   ],
   "source": [
    "sns.distplot(wine['citric acid'],kde=False)"
   ]
  },
  {
   "cell_type": "code",
   "execution_count": 26,
   "metadata": {},
   "outputs": [
    {
     "data": {
      "text/plain": [
       "<matplotlib.axes._subplots.AxesSubplot at 0x7fab3a7a0a10>"
      ]
     },
     "execution_count": 26,
     "metadata": {},
     "output_type": "execute_result"
    },
    {
     "data": {
      "image/png": "[encoded data removed]",
      "text/plain": [
       "<Figure size 432x288 with 1 Axes>"
      ]
     },
     "metadata": {
      "needs_background": "light"
     },
     "output_type": "display_data"
    }
   ],
   "source": [
    "sns.distplot(wine['pH'],kde=False)"
   ]
  },
  {
   "cell_type": "code",
   "execution_count": 27,
   "metadata": {},
   "outputs": [
    {
     "data": {
      "text/plain": [
       "<matplotlib.axes._subplots.AxesSubplot at 0x7fab3a922450>"
      ]
     },
     "execution_count": 27,
     "metadata": {},
     "output_type": "execute_result"
    },
    {
     "data": {
      "image/png": "[encoded data removed]",
      "text/plain": [
       "<Figure size 432x288 with 1 Axes>"
      ]
     },
     "metadata": {
      "needs_background": "light"
     },
     "output_type": "display_data"
    }
   ],
   "source": [
    "sns.distplot(wine['volatile acidity'],kde=False)"
   ]
  },
  {
   "cell_type": "markdown",
   "metadata": {},
   "source": [
    "### 2.2 Split data into training and test set. Build models that evaluate the relationship between all available X variables in the dataset and the target variable. Evaluate Logistic Regression, Penalized Logistic Regression, and KNN for classification using cross-validation. How different are the results? How does scaling the data with StandardScaler influence the results?"
   ]
  },
  {
   "cell_type": "code",
   "execution_count": 28,
   "metadata": {
    "scrolled": true
   },
   "outputs": [
    {
     "data": {
      "text/html": [
       "<div>\n",
       "<style scoped>\n",
       "    .dataframe tbody tr th:only-of-type {\n",
       "        vertical-align: middle;\n",
       "    }\n",
       "\n",
       "    .dataframe tbody tr th {\n",
       "        vertical-align: top;\n",
       "    }\n",
       "\n",
       "    .dataframe thead th {\n",
       "        text-align: right;\n",
       "    }\n",
       "</style>\n",
       "<table border=\"1\" class=\"dataframe\">\n",
       "  <thead>\n",
       "    <tr style=\"text-align: right;\">\n",
       "      <th></th>\n",
       "      <th>fixed acidity</th>\n",
       "      <th>volatile acidity</th>\n",
       "      <th>citric acid</th>\n",
       "      <th>residual sugar</th>\n",
       "      <th>chlorides</th>\n",
       "      <th>free sulfur dioxide</th>\n",
       "      <th>total sulfur dioxide</th>\n",
       "      <th>density</th>\n",
       "      <th>pH</th>\n",
       "      <th>sulphates</th>\n",
       "      <th>alcohol</th>\n",
       "      <th>quality</th>\n",
       "      <th>winetype</th>\n",
       "    </tr>\n",
       "  </thead>\n",
       "  <tbody>\n",
       "    <tr>\n",
       "      <th>0</th>\n",
       "      <td>7.0</td>\n",
       "      <td>0.27</td>\n",
       "      <td>0.36</td>\n",
       "      <td>20.7</td>\n",
       "      <td>0.045</td>\n",
       "      <td>45.0</td>\n",
       "      <td>170.0</td>\n",
       "      <td>1.0010</td>\n",
       "      <td>3.00</td>\n",
       "      <td>0.45</td>\n",
       "      <td>8.8</td>\n",
       "      <td>6</td>\n",
       "      <td>0</td>\n",
       "    </tr>\n",
       "    <tr>\n",
       "      <th>1</th>\n",
       "      <td>6.3</td>\n",
       "      <td>0.30</td>\n",
       "      <td>0.34</td>\n",
       "      <td>1.6</td>\n",
       "      <td>0.049</td>\n",
       "      <td>14.0</td>\n",
       "      <td>132.0</td>\n",
       "      <td>0.9940</td>\n",
       "      <td>3.30</td>\n",
       "      <td>0.49</td>\n",
       "      <td>9.5</td>\n",
       "      <td>6</td>\n",
       "      <td>0</td>\n",
       "    </tr>\n",
       "    <tr>\n",
       "      <th>2</th>\n",
       "      <td>8.1</td>\n",
       "      <td>0.28</td>\n",
       "      <td>0.40</td>\n",
       "      <td>6.9</td>\n",
       "      <td>0.050</td>\n",
       "      <td>30.0</td>\n",
       "      <td>97.0</td>\n",
       "      <td>0.9951</td>\n",
       "      <td>3.26</td>\n",
       "      <td>0.44</td>\n",
       "      <td>10.1</td>\n",
       "      <td>6</td>\n",
       "      <td>0</td>\n",
       "    </tr>\n",
       "    <tr>\n",
       "      <th>3</th>\n",
       "      <td>7.2</td>\n",
       "      <td>0.23</td>\n",
       "      <td>0.32</td>\n",
       "      <td>8.5</td>\n",
       "      <td>0.058</td>\n",
       "      <td>47.0</td>\n",
       "      <td>186.0</td>\n",
       "      <td>0.9956</td>\n",
       "      <td>3.19</td>\n",
       "      <td>0.40</td>\n",
       "      <td>9.9</td>\n",
       "      <td>6</td>\n",
       "      <td>0</td>\n",
       "    </tr>\n",
       "    <tr>\n",
       "      <th>4</th>\n",
       "      <td>7.2</td>\n",
       "      <td>0.23</td>\n",
       "      <td>0.32</td>\n",
       "      <td>8.5</td>\n",
       "      <td>0.058</td>\n",
       "      <td>47.0</td>\n",
       "      <td>186.0</td>\n",
       "      <td>0.9956</td>\n",
       "      <td>3.19</td>\n",
       "      <td>0.40</td>\n",
       "      <td>9.9</td>\n",
       "      <td>6</td>\n",
       "      <td>0</td>\n",
       "    </tr>\n",
       "    <tr>\n",
       "      <th>5</th>\n",
       "      <td>8.1</td>\n",
       "      <td>0.28</td>\n",
       "      <td>0.40</td>\n",
       "      <td>6.9</td>\n",
       "      <td>0.050</td>\n",
       "      <td>30.0</td>\n",
       "      <td>97.0</td>\n",
       "      <td>0.9951</td>\n",
       "      <td>3.26</td>\n",
       "      <td>0.44</td>\n",
       "      <td>10.1</td>\n",
       "      <td>6</td>\n",
       "      <td>0</td>\n",
       "    </tr>\n",
       "    <tr>\n",
       "      <th>6</th>\n",
       "      <td>6.2</td>\n",
       "      <td>0.32</td>\n",
       "      <td>0.16</td>\n",
       "      <td>7.0</td>\n",
       "      <td>0.045</td>\n",
       "      <td>30.0</td>\n",
       "      <td>136.0</td>\n",
       "      <td>0.9949</td>\n",
       "      <td>3.18</td>\n",
       "      <td>0.47</td>\n",
       "      <td>9.6</td>\n",
       "      <td>6</td>\n",
       "      <td>0</td>\n",
       "    </tr>\n",
       "    <tr>\n",
       "      <th>7</th>\n",
       "      <td>7.0</td>\n",
       "      <td>0.27</td>\n",
       "      <td>0.36</td>\n",
       "      <td>20.7</td>\n",
       "      <td>0.045</td>\n",
       "      <td>45.0</td>\n",
       "      <td>170.0</td>\n",
       "      <td>1.0010</td>\n",
       "      <td>3.00</td>\n",
       "      <td>0.45</td>\n",
       "      <td>8.8</td>\n",
       "      <td>6</td>\n",
       "      <td>0</td>\n",
       "    </tr>\n",
       "    <tr>\n",
       "      <th>8</th>\n",
       "      <td>6.3</td>\n",
       "      <td>0.30</td>\n",
       "      <td>0.34</td>\n",
       "      <td>1.6</td>\n",
       "      <td>0.049</td>\n",
       "      <td>14.0</td>\n",
       "      <td>132.0</td>\n",
       "      <td>0.9940</td>\n",
       "      <td>3.30</td>\n",
       "      <td>0.49</td>\n",
       "      <td>9.5</td>\n",
       "      <td>6</td>\n",
       "      <td>0</td>\n",
       "    </tr>\n",
       "    <tr>\n",
       "      <th>9</th>\n",
       "      <td>8.1</td>\n",
       "      <td>0.22</td>\n",
       "      <td>0.43</td>\n",
       "      <td>1.5</td>\n",
       "      <td>0.044</td>\n",
       "      <td>28.0</td>\n",
       "      <td>129.0</td>\n",
       "      <td>0.9938</td>\n",
       "      <td>3.22</td>\n",
       "      <td>0.45</td>\n",
       "      <td>11.0</td>\n",
       "      <td>6</td>\n",
       "      <td>0</td>\n",
       "    </tr>\n",
       "  </tbody>\n",
       "</table>\n",
       "</div>"
      ],
      "text/plain": [
       "   fixed acidity  volatile acidity  citric acid  residual sugar  chlorides  \\\n",
       "0            7.0              0.27         0.36            20.7      0.045   \n",
       "1            6.3              0.30         0.34             1.6      0.049   \n",
       "2            8.1              0.28         0.40             6.9      0.050   \n",
       "3            7.2              0.23         0.32             8.5      0.058   \n",
       "4            7.2              0.23         0.32             8.5      0.058   \n",
       "5            8.1              0.28         0.40             6.9      0.050   \n",
       "6            6.2              0.32         0.16             7.0      0.045   \n",
       "7            7.0              0.27         0.36            20.7      0.045   \n",
       "8            6.3              0.30         0.34             1.6      0.049   \n",
       "9            8.1              0.22         0.43             1.5      0.044   \n",
       "\n",
       "   free sulfur dioxide  total sulfur dioxide  density    pH  sulphates  \\\n",
       "0                 45.0                 170.0   1.0010  3.00       0.45   \n",
       "1                 14.0                 132.0   0.9940  3.30       0.49   \n",
       "2                 30.0                  97.0   0.9951  3.26       0.44   \n",
       "3                 47.0                 186.0   0.9956  3.19       0.40   \n",
       "4                 47.0                 186.0   0.9956  3.19       0.40   \n",
       "5                 30.0                  97.0   0.9951  3.26       0.44   \n",
       "6                 30.0                 136.0   0.9949  3.18       0.47   \n",
       "7                 45.0                 170.0   1.0010  3.00       0.45   \n",
       "8                 14.0                 132.0   0.9940  3.30       0.49   \n",
       "9                 28.0                 129.0   0.9938  3.22       0.45   \n",
       "\n",
       "   alcohol  quality  winetype  \n",
       "0      8.8        6         0  \n",
       "1      9.5        6         0  \n",
       "2     10.1        6         0  \n",
       "3      9.9        6         0  \n",
       "4      9.9        6         0  \n",
       "5     10.1        6         0  \n",
       "6      9.6        6         0  \n",
       "7      8.8        6         0  \n",
       "8      9.5        6         0  \n",
       "9     11.0        6         0  "
      ]
     },
     "execution_count": 28,
     "metadata": {},
     "output_type": "execute_result"
    }
   ],
   "source": [
    "wine.head(10)"
   ]
  },
  {
   "cell_type": "code",
   "execution_count": 29,
   "metadata": {},
   "outputs": [],
   "source": [
    "X = wine.iloc[:,0:12]\n",
    "y = wine.iloc[:,-1]"
   ]
  },
  {
   "cell_type": "code",
   "execution_count": 30,
   "metadata": {},
   "outputs": [],
   "source": [
    "from sklearn.neighbors import KNeighborsClassifier\n",
    "from sklearn.linear_model import LogisticRegression"
   ]
  },
  {
   "cell_type": "code",
   "execution_count": 31,
   "metadata": {},
   "outputs": [],
   "source": [
    "X_train, X_test, y_train, y_test = train_test_split(X, y, random_state=42) "
   ]
  },
  {
   "cell_type": "markdown",
   "metadata": {},
   "source": [
    "##### without preprocessing the data"
   ]
  },
  {
   "cell_type": "code",
   "execution_count": 32,
   "metadata": {
    "scrolled": true
   },
   "outputs": [
    {
     "name": "stdout",
     "output_type": "stream",
     "text": [
      "accuracy of KNN: 0.936\n",
      "accuracy of Logistic Regression without penalty: 0.993\n",
      "accuracy of Logistic Regression with penalty: 0.981\n"
     ]
    }
   ],
   "source": [
    "knnc = KNeighborsClassifier()\n",
    "knnc.fit(X_train,y_train)\n",
    "print(\"accuracy of KNN: {:.3f}\".format(knnc.score(X_test,y_test)))\n",
    "\n",
    "logit = LogisticRegression(penalty='none', max_iter=1000000)\n",
    "logit.fit(X_train,y_train)\n",
    "print(\"accuracy of Logistic Regression without penalty: {:.3f}\".format(logit.score(X_test,y_test)))\n",
    "\n",
    "logit_penalty = LogisticRegression(penalty='l2', max_iter=10000)\n",
    "logit_penalty.fit(X_train,y_train)\n",
    "print(\"accuracy of Logistic Regression with penalty: {:.3f}\".format(logit_penalty.score(X_test,y_test)))"
   ]
  },
  {
   "cell_type": "code",
   "execution_count": 33,
   "metadata": {},
   "outputs": [
    {
     "name": "stdout",
     "output_type": "stream",
     "text": [
      "Cross-Validation score of KNN: 0.942\n",
      "Cross-Validation score of Logistic Regression without penalty: 0.989\n",
      "Cross-Validation score of Logistic Regression with penalty: 0.986\n"
     ]
    }
   ],
   "source": [
    "#Cross-Validation\n",
    "print(\"Cross-Validation score of KNN: {:.3f}\".format(np.mean(cross_val_score(KNeighborsClassifier(), X_train, y_train))))\n",
    "print(\"Cross-Validation score of Logistic Regression without penalty: {:.3f}\".format(np.mean(cross_val_score(LogisticRegression(penalty='none', max_iter=10000), X_train, y_train))))\n",
    "print(\"Cross-Validation score of Logistic Regression with penalty: {:.3f}\".format(np.mean(cross_val_score(LogisticRegression(penalty='l2', max_iter=10000), X_train, y_train))))"
   ]
  },
  {
   "cell_type": "markdown",
   "metadata": {},
   "source": [
    "##### preprocessing the data before regression"
   ]
  },
  {
   "cell_type": "code",
   "execution_count": 34,
   "metadata": {},
   "outputs": [],
   "source": [
    "scaler = StandardScaler()\n",
    "scaler.fit(X_train) \n",
    "X_train_scaled = scaler.transform(X_train)\n",
    "X_test_scaled = scaler.transform(X_test)"
   ]
  },
  {
   "cell_type": "code",
   "execution_count": 35,
   "metadata": {},
   "outputs": [
    {
     "name": "stdout",
     "output_type": "stream",
     "text": [
      "accuracy of KNN: 0.991\n",
      "accuracy of Logistic Regression without penalty: 0.993\n",
      "accuracy of Logistic Regression with penalty: 0.991\n"
     ]
    }
   ],
   "source": [
    "knnc = KNeighborsClassifier()\n",
    "knnc.fit(X_train_scaled,y_train)\n",
    "print(\"accuracy of KNN: {:.3f}\".format(knnc.score(X_test_scaled,y_test)))\n",
    "\n",
    "logit = LogisticRegression(penalty='none', max_iter=10000)\n",
    "logit.fit(X_train_scaled,y_train)\n",
    "print(\"accuracy of Logistic Regression without penalty: {:.3f}\".format(logit.score(X_test_scaled,y_test)))\n",
    "\n",
    "logit_penalty = LogisticRegression(penalty='l2', max_iter=10000)\n",
    "logit_penalty.fit(X_train_scaled,y_train)\n",
    "print(\"accuracy of Logistic Regression with penalty: {:.3f}\".format(logit_penalty.score(X_test_scaled,y_test)))"
   ]
  },
  {
   "cell_type": "code",
   "execution_count": 36,
   "metadata": {
    "scrolled": false
   },
   "outputs": [
    {
     "name": "stdout",
     "output_type": "stream",
     "text": [
      "Cross-Validation score of KNN: 0.993\n",
      "Cross-Validation score of Logistic Regression without penalty: 0.994\n",
      "Cross-Validation score of Logistic Regression with penalty: 0.993\n"
     ]
    }
   ],
   "source": [
    "#Cross-Validation\n",
    "print(\"Cross-Validation score of KNN: {:.3f}\".format(np.mean(cross_val_score(KNeighborsClassifier(), X_train_scaled, y_train))))\n",
    "print(\"Cross-Validation score of Logistic Regression without penalty: {:.3f}\".format(np.mean(cross_val_score(LogisticRegression(penalty='none', max_iter=10000), X_train_scaled, y_train))))\n",
    "print(\"Cross-Validation score of Logistic Regression with penalty: {:.3f}\".format(np.mean(cross_val_score(LogisticRegression(penalty='l2', max_iter=10000), X_train_scaled, y_train))))\n"
   ]
  },
  {
   "cell_type": "markdown",
   "metadata": {},
   "source": [
    "#### conclusion 2.2\n",
    "\n",
    "Scaling the data increase the cross-validation score of all three methods, especially KNN: from 0.942 to 0.993. As for logistic regression with or without penalty, the increase is slight."
   ]
  },
  {
   "cell_type": "markdown",
   "metadata": {},
   "source": [
    "### 2.3 Tune the parameters where possible using GridSearchCV. Do the results improve?"
   ]
  },
  {
   "cell_type": "code",
   "execution_count": 37,
   "metadata": {},
   "outputs": [
    {
     "name": "stdout",
     "output_type": "stream",
     "text": [
      "best mean cross-validation score of KNN Classifier: 0.994\n",
      "best mean cross-validation score of Logistic Regression: 0.994\n"
     ]
    }
   ],
   "source": [
    "#knn\n",
    "param_grid = {'n_neighbors': np.arange(1, 10, 1)}\n",
    "grid_knnc = GridSearchCV(KNeighborsClassifier(), param_grid=param_grid)\n",
    "grid_knnc.fit(X_train_scaled, y_train)\n",
    "print(\"best mean cross-validation score of KNN Classifier: {:.3f}\".format(grid_knnc.best_score_))\n",
    "\n",
    "#logit with penalty\n",
    "C = {'C': np.arange(1, 20, 0.5)}\n",
    "grid_logit = GridSearchCV(LogisticRegression(),param_grid=C)\n",
    "grid_logit.fit(X_train_scaled, y_train)\n",
    "print(\"best mean cross-validation score of Logistic Regression: {:.3f}\".format(grid_logit.best_score_))"
   ]
  },
  {
   "cell_type": "markdown",
   "metadata": {},
   "source": [
    "#### conclusion 2.3\n",
    "\n",
    "The cross-validation scores of KNN and Logistic Regression with penalty just increase slightly after using GridSearchCV, both from 0.993 to 0.994"
   ]
  },
  {
   "cell_type": "markdown",
   "metadata": {},
   "source": [
    "### 2.4 Change the cross-validation strategy in GridSearchCV from ‘stratified k-fold’ to ‘kfold’ with shuffling. Do the parameters for models that can be tuned change? Do they change if you change the random seed of the shuffling? Or if you change the random state of the split into training and test data?"
   ]
  },
  {
   "cell_type": "code",
   "execution_count": 38,
   "metadata": {},
   "outputs": [],
   "source": [
    "from sklearn.model_selection import RepeatedKFold\n",
    "from sklearn.model_selection import StratifiedKFold\n",
    "from sklearn.model_selection import KFold"
   ]
  },
  {
   "cell_type": "code",
   "execution_count": 39,
   "metadata": {},
   "outputs": [
    {
     "name": "stdout",
     "output_type": "stream",
     "text": [
      "best mean cross-validation score of KNN Classifier: 0.995\n",
      "best parameter of KNN Classifier: {'n_neighbors': 2}\n",
      "best mean cross-validation score of Logistic Regression: 0.994\n",
      "best parameter of Logistic Regression: {'C': 2.8000000000000003}\n",
      "----------------stratified k-fold is applied below--------------\n",
      "best mean cross-validation score of KNN Classifier: 0.994\n",
      "best parameter of KNN Classifier: {'n_neighbors': 2}\n",
      "best mean cross-validation score of Logistic Regression: 0.994\n",
      "best parameter of Logistic Regression: {'C': 2.8000000000000003}\n"
     ]
    }
   ],
   "source": [
    "skfold = StratifiedKFold(n_splits=10, shuffle = True, random_state=42)\n",
    "kfold = KFold(n_splits=10, shuffle = True, random_state=42)\n",
    "#kfold\n",
    "\n",
    "#knn\n",
    "param_grid = {'n_neighbors': np.arange(1, 10, 1)}\n",
    "grid_knnc = GridSearchCV(KNeighborsClassifier(), param_grid=param_grid, cv=kfold)\n",
    "grid_knnc.fit(X_train_scaled, y_train)\n",
    "print(\"best mean cross-validation score of KNN Classifier: {:.3f}\".format(grid_knnc.best_score_))\n",
    "print(\"best parameter of KNN Classifier: {}\".format(grid_knnc.best_params_))\n",
    "\n",
    "#logit with penalty\n",
    "C = {'C': np.arange(0.1, 5, 0.1)}\n",
    "grid_logit = GridSearchCV(LogisticRegression(),param_grid=C, cv=kfold)\n",
    "grid_logit.fit(X_train_scaled, y_train)\n",
    "print(\"best mean cross-validation score of Logistic Regression: {:.3f}\".format(grid_logit.best_score_))\n",
    "print(\"best parameter of Logistic Regression: {}\".format(grid_logit.best_params_))\n",
    "\n",
    "print('----------------stratified k-fold is applied below--------------')\n",
    "\n",
    "#stratified k-fold\n",
    "\n",
    "#knn\n",
    "param_grid = {'n_neighbors': np.arange(1, 10, 1)}\n",
    "grid_knnc = GridSearchCV(KNeighborsClassifier(), param_grid=param_grid, cv=skfold)\n",
    "grid_knnc.fit(X_train_scaled, y_train)\n",
    "print(\"best mean cross-validation score of KNN Classifier: {:.3f}\".format(grid_knnc.best_score_))\n",
    "print(\"best parameter of KNN Classifier: {}\".format(grid_knnc.best_params_))\n",
    "\n",
    "#logit with penalty\n",
    "C = {'C': np.arange(0.1, 5, 0.1)}\n",
    "grid_logit = GridSearchCV(LogisticRegression(),param_grid=C, cv=skfold)\n",
    "grid_logit.fit(X_train_scaled, y_train)\n",
    "print(\"best mean cross-validation score of Logistic Regression: {:.3f}\".format(grid_logit.best_score_))\n",
    "print(\"best parameter of Logistic Regression: {}\".format(grid_logit.best_params_))"
   ]
  },
  {
   "cell_type": "markdown",
   "metadata": {},
   "source": [
    "###### Change the random seed of shuffling from 42 to 7"
   ]
  },
  {
   "cell_type": "code",
   "execution_count": 40,
   "metadata": {},
   "outputs": [
    {
     "name": "stdout",
     "output_type": "stream",
     "text": [
      "best mean cross-validation score of KNN Classifier: 0.994\n",
      "best parameter of KNN Classifier: {'n_neighbors': 6}\n",
      "best mean cross-validation score of Logistic Regression: 0.993\n",
      "best parameter of Logistic Regression: {'C': 3.2}\n",
      "----------------stratified k-fold is applied below----------------\n",
      "best mean cross-validation score of KNN Classifier: 0.995\n",
      "best parameter of KNN Classifier: {'n_neighbors': 6}\n",
      "best mean cross-validation score of Logistic Regression: 0.994\n",
      "best parameter of Logistic Regression: {'C': 1.5000000000000002}\n"
     ]
    }
   ],
   "source": [
    "skfold = StratifiedKFold(n_splits=10, shuffle = True, random_state=7)\n",
    "kfold = KFold(n_splits=10, shuffle = True, random_state=7)\n",
    "\n",
    "#kfold\n",
    "\n",
    "#knn\n",
    "param_grid = {'n_neighbors': np.arange(1, 10, 1)}\n",
    "grid_knnc = GridSearchCV(KNeighborsClassifier(), param_grid=param_grid, cv=kfold)\n",
    "grid_knnc.fit(X_train_scaled, y_train)\n",
    "print(\"best mean cross-validation score of KNN Classifier: {:.3f}\".format(grid_knnc.best_score_))\n",
    "print(\"best parameter of KNN Classifier: {}\".format(grid_knnc.best_params_))\n",
    "\n",
    "#logit with penalty\n",
    "C = {'C': np.arange(0.1, 5, 0.1)}\n",
    "grid_logit = GridSearchCV(LogisticRegression(),param_grid=C, cv=kfold)\n",
    "grid_logit.fit(X_train_scaled, y_train)\n",
    "print(\"best mean cross-validation score of Logistic Regression: {:.3f}\".format(grid_logit.best_score_))\n",
    "print(\"best parameter of Logistic Regression: {}\".format(grid_logit.best_params_))\n",
    "\n",
    "print('----------------stratified k-fold is applied below----------------')\n",
    "\n",
    "#stratified k-fold\n",
    "\n",
    "#knn\n",
    "param_grid = {'n_neighbors': np.arange(1, 10, 1)}\n",
    "grid_knnc = GridSearchCV(KNeighborsClassifier(), param_grid=param_grid, cv=skfold)\n",
    "grid_knnc.fit(X_train_scaled, y_train)\n",
    "print(\"best mean cross-validation score of KNN Classifier: {:.3f}\".format(grid_knnc.best_score_))\n",
    "print(\"best parameter of KNN Classifier: {}\".format(grid_knnc.best_params_))\n",
    "\n",
    "#logit with penalty\n",
    "C = {'C': np.arange(0.1, 5, 0.1)}\n",
    "grid_logit = GridSearchCV(LogisticRegression(),param_grid=C, cv=skfold)\n",
    "grid_logit.fit(X_train_scaled, y_train)\n",
    "print(\"best mean cross-validation score of Logistic Regression: {:.3f}\".format(grid_logit.best_score_))\n",
    "print(\"best parameter of Logistic Regression: {}\".format(grid_logit.best_params_))"
   ]
  },
  {
   "cell_type": "markdown",
   "metadata": {},
   "source": [
    "##### change the random state of the split into training and test data"
   ]
  },
  {
   "cell_type": "code",
   "execution_count": 41,
   "metadata": {},
   "outputs": [
    {
     "name": "stdout",
     "output_type": "stream",
     "text": [
      "best mean cross-validation score of KNN Classifier: 0.993\n",
      "best parameter of KNN Classifier: {'n_neighbors': 4}\n",
      "best mean cross-validation score of Logistic Regression: 0.993\n",
      "best parameter of Logistic Regression: {'C': 3.6}\n",
      "----------------stratified k-fold is applied below--------------\n",
      "best mean cross-validation score of KNN Classifier: 0.993\n",
      "best parameter of KNN Classifier: {'n_neighbors': 4}\n",
      "best mean cross-validation score of Logistic Regression: 0.993\n",
      "best parameter of Logistic Regression: {'C': 1.6}\n"
     ]
    }
   ],
   "source": [
    "X_train, X_test, y_train, y_test = train_test_split(X, y, random_state=10)\n",
    "scaler = StandardScaler()\n",
    "scaler.fit(X_train) \n",
    "X_train_scaled = scaler.transform(X_train)\n",
    "X_test_scaled = scaler.transform(X_test)\n",
    "\n",
    "#kfold\n",
    "\n",
    "#knn\n",
    "param_grid = {'n_neighbors': np.arange(1, 10, 1)}\n",
    "grid_knnc = GridSearchCV(KNeighborsClassifier(), param_grid=param_grid, cv=kfold)\n",
    "grid_knnc.fit(X_train_scaled, y_train)\n",
    "print(\"best mean cross-validation score of KNN Classifier: {:.3f}\".format(grid_knnc.best_score_))\n",
    "print(\"best parameter of KNN Classifier: {}\".format(grid_knnc.best_params_))\n",
    "\n",
    "#logit with penalty\n",
    "C = {'C': np.arange(0.1, 5, 0.1)}\n",
    "grid_logit = GridSearchCV(LogisticRegression(),param_grid=C, cv=kfold)\n",
    "grid_logit.fit(X_train_scaled, y_train)\n",
    "print(\"best mean cross-validation score of Logistic Regression: {:.3f}\".format(grid_logit.best_score_))\n",
    "print(\"best parameter of Logistic Regression: {}\".format(grid_logit.best_params_))\n",
    "\n",
    "print('----------------stratified k-fold is applied below--------------')\n",
    "\n",
    "#stratified k-fold\n",
    "\n",
    "#knn\n",
    "param_grid = {'n_neighbors': np.arange(1, 10, 1)}\n",
    "grid_knnc = GridSearchCV(KNeighborsClassifier(), param_grid=param_grid, cv=skfold)\n",
    "grid_knnc.fit(X_train_scaled, y_train)\n",
    "print(\"best mean cross-validation score of KNN Classifier: {:.3f}\".format(grid_knnc.best_score_))\n",
    "print(\"best parameter of KNN Classifier: {}\".format(grid_knnc.best_params_))\n",
    "\n",
    "#logit with penalty\n",
    "C = {'C': np.arange(0.1, 5, 0.1)}\n",
    "grid_logit = GridSearchCV(LogisticRegression(),param_grid=C, cv=skfold)\n",
    "grid_logit.fit(X_train_scaled, y_train)\n",
    "print(\"best mean cross-validation score of Logistic Regression: {:.3f}\".format(grid_logit.best_score_))\n",
    "print(\"best parameter of Logistic Regression: {}\".format(grid_logit.best_params_))"
   ]
  },
  {
   "cell_type": "markdown",
   "metadata": {},
   "source": [
    "#### Conclusion 2.4\n",
    "\n",
    "Change the cross-validation strategy in GridSearchCV from ‘stratified k-fold’ to ‘kfold’ with shuffling. Do the parameters for models that can be tuned change? \n",
    "##### yes\n",
    "\n",
    "Do they change if you change the random seed of the shuffling? \n",
    "##### yes\n",
    "\n",
    "Or if you change the random state of the split into training and test data?\n",
    "##### yes"
   ]
  },
  {
   "cell_type": "markdown",
   "metadata": {},
   "source": [
    "### 2.5 Lastly, compare the coefficients for Logistic Regression and Penalized Logistic Regression and discuss which final model you would choose to predict new data."
   ]
  },
  {
   "cell_type": "code",
   "execution_count": 42,
   "metadata": {},
   "outputs": [],
   "source": [
    "# reset random state first\n",
    "X_train, X_test, y_train, y_test = train_test_split(X, y, random_state=42)\n",
    "scaler = StandardScaler() \n",
    "scaler.fit(X_train) \n",
    "X_train_scaled = scaler.transform(X_train)\n",
    "X_test_scaled = scaler.transform(X_test)"
   ]
  },
  {
   "cell_type": "code",
   "execution_count": 46,
   "metadata": {},
   "outputs": [
    {
     "name": "stdout",
     "output_type": "stream",
     "text": [
      "best parameter of Penalized Logistic Regression: {'C': 1.5000000000000002}\n"
     ]
    },
    {
     "data": {
      "text/plain": [
       "0.9938427811626889"
      ]
     },
     "execution_count": 46,
     "metadata": {},
     "output_type": "execute_result"
    }
   ],
   "source": [
    "# stratified k-fold renders more balanced data, so I choose stratified k-fold cross-validation to get the best\n",
    "# parameter for Penalized Logistic Regression with GridsearchCV\n",
    "\n",
    "#logit with penalty\n",
    "C = {'C': np.arange(0.1, 5, 0.1)}\n",
    "grid_logit = GridSearchCV(LogisticRegression(),param_grid=C, cv=skfold)\n",
    "grid_logit.fit(X_train_scaled, y_train)\n",
    "print(\"best parameter of Penalized Logistic Regression: {}\".format(grid_logit.best_params_))\n"
   ]
  },
  {
   "cell_type": "code",
   "execution_count": 51,
   "metadata": {},
   "outputs": [
    {
     "name": "stdout",
     "output_type": "stream",
     "text": [
      "accuracy of Logistic Regression with penalty: 0.991\n",
      "accuracy of Logistic Regression without penalty: 0.993\n"
     ]
    },
    {
     "data": {
      "text/plain": [
       "0.9938427811626889"
      ]
     },
     "execution_count": 51,
     "metadata": {},
     "output_type": "execute_result"
    }
   ],
   "source": [
    "penalty_logit = LogisticRegression(C = 1.5, max_iter=10000)\n",
    "penalty_logit.fit(X_train_scaled,y_train)\n",
    "print(\"accuracy of Logistic Regression with penalty: {:.3f}\".format(penalty_logit.score(X_test_scaled,y_test)))\n",
    "\n",
    "logit = LogisticRegression(penalty='none', max_iter=10000)\n",
    "logit.fit(X_train_scaled,y_train)\n",
    "print(\"accuracy of Logistic Regression without penalty: {:.3f}\".format(logit.score(X_test_scaled,y_test)))\n",
    "\n",
    "np.mean(cross_val_score(LogisticRegression(C = 1.5, max_iter=10000), X_train, y_train))\n",
    "grid_logit.best_score_"
   ]
  },
  {
   "cell_type": "code",
   "execution_count": 45,
   "metadata": {},
   "outputs": [
    {
     "data": {
      "text/html": [
       "<div>\n",
       "<style scoped>\n",
       "    .dataframe tbody tr th:only-of-type {\n",
       "        vertical-align: middle;\n",
       "    }\n",
       "\n",
       "    .dataframe tbody tr th {\n",
       "        vertical-align: top;\n",
       "    }\n",
       "\n",
       "    .dataframe thead th {\n",
       "        text-align: right;\n",
       "    }\n",
       "</style>\n",
       "<table border=\"1\" class=\"dataframe\">\n",
       "  <thead>\n",
       "    <tr style=\"text-align: right;\">\n",
       "      <th></th>\n",
       "      <th>0</th>\n",
       "      <th>Logit_Coefs</th>\n",
       "      <th>Penalized_Logit_Coefs</th>\n",
       "    </tr>\n",
       "  </thead>\n",
       "  <tbody>\n",
       "    <tr>\n",
       "      <th>0</th>\n",
       "      <td>fixed acidity</td>\n",
       "      <td>-0.396933</td>\n",
       "      <td>0.220398</td>\n",
       "    </tr>\n",
       "    <tr>\n",
       "      <th>1</th>\n",
       "      <td>volatile acidity</td>\n",
       "      <td>1.155973</td>\n",
       "      <td>1.263583</td>\n",
       "    </tr>\n",
       "    <tr>\n",
       "      <th>2</th>\n",
       "      <td>citric acid</td>\n",
       "      <td>-0.464869</td>\n",
       "      <td>-0.375329</td>\n",
       "    </tr>\n",
       "    <tr>\n",
       "      <th>3</th>\n",
       "      <td>residual sugar</td>\n",
       "      <td>-5.603123</td>\n",
       "      <td>-3.913912</td>\n",
       "    </tr>\n",
       "    <tr>\n",
       "      <th>4</th>\n",
       "      <td>chlorides</td>\n",
       "      <td>0.759642</td>\n",
       "      <td>0.784414</td>\n",
       "    </tr>\n",
       "    <tr>\n",
       "      <th>5</th>\n",
       "      <td>free sulfur dioxide</td>\n",
       "      <td>1.435934</td>\n",
       "      <td>1.037639</td>\n",
       "    </tr>\n",
       "    <tr>\n",
       "      <th>6</th>\n",
       "      <td>total sulfur dioxide</td>\n",
       "      <td>-3.336956</td>\n",
       "      <td>-3.003770</td>\n",
       "    </tr>\n",
       "    <tr>\n",
       "      <th>7</th>\n",
       "      <td>density</td>\n",
       "      <td>5.750060</td>\n",
       "      <td>3.904121</td>\n",
       "    </tr>\n",
       "    <tr>\n",
       "      <th>8</th>\n",
       "      <td>pH</td>\n",
       "      <td>-0.288440</td>\n",
       "      <td>0.211660</td>\n",
       "    </tr>\n",
       "    <tr>\n",
       "      <th>9</th>\n",
       "      <td>sulphates</td>\n",
       "      <td>0.437953</td>\n",
       "      <td>0.598476</td>\n",
       "    </tr>\n",
       "    <tr>\n",
       "      <th>10</th>\n",
       "      <td>alcohol</td>\n",
       "      <td>2.317036</td>\n",
       "      <td>1.402622</td>\n",
       "    </tr>\n",
       "    <tr>\n",
       "      <th>11</th>\n",
       "      <td>quality</td>\n",
       "      <td>0.186765</td>\n",
       "      <td>0.166911</td>\n",
       "    </tr>\n",
       "  </tbody>\n",
       "</table>\n",
       "</div>"
      ],
      "text/plain": [
       "                       0  Logit_Coefs  Penalized_Logit_Coefs\n",
       "0          fixed acidity    -0.396933               0.220398\n",
       "1       volatile acidity     1.155973               1.263583\n",
       "2            citric acid    -0.464869              -0.375329\n",
       "3         residual sugar    -5.603123              -3.913912\n",
       "4              chlorides     0.759642               0.784414\n",
       "5    free sulfur dioxide     1.435934               1.037639\n",
       "6   total sulfur dioxide    -3.336956              -3.003770\n",
       "7                density     5.750060               3.904121\n",
       "8                     pH    -0.288440               0.211660\n",
       "9              sulphates     0.437953               0.598476\n",
       "10               alcohol     2.317036               1.402622\n",
       "11               quality     0.186765               0.166911"
      ]
     },
     "execution_count": 45,
     "metadata": {},
     "output_type": "execute_result"
    }
   ],
   "source": [
    "coef_table_logit = pd.DataFrame(list(X_train.columns)).copy()\n",
    "coef_table_logit.insert(len(coef_table_logit.columns),\"Logit_Coefs\",logit.coef_.transpose())\n",
    "coef_table_logit.insert(len(coef_table_logit.columns),\"Penalized_Logit_Coefs\",penalty_logit.coef_.transpose())\n",
    "coef_table_logit"
   ]
  },
  {
   "cell_type": "markdown",
   "metadata": {},
   "source": [
    "#### conclusion 2.5\n",
    "I will choose Logistic Regression without penalty for two reason. First, Logistic Regression without penalty renders a slightly better prediction than penalized one. Second, the penalized logistic regression does not have an effective skrinkage effect, so its core advantage is not applicable in this case. Therefore, the logistic regression without penalty is more simple and renders equally good or even a little better result."
   ]
  }
 ],
 "metadata": {
  "kernelspec": {
   "display_name": "Python 3",
   "language": "python",
   "name": "python3"
  },
  "language_info": {
   "codemirror_mode": {
    "name": "ipython",
    "version": 3
   },
   "file_extension": ".py",
   "mimetype": "text/x-python",
   "name": "python",
   "nbconvert_exporter": "python",
   "pygments_lexer": "ipython3",
   "version": "3.7.6"
  }
 },
 "nbformat": 4,
 "nbformat_minor": 4
}
