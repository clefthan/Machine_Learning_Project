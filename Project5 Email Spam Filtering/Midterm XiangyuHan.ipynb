{
 "cells": [
  {
   "cell_type": "markdown",
   "metadata": {},
   "source": [
    "### 1.  Import the spam dataset and print the first six rows.  "
   ]
  },
  {
   "cell_type": "code",
   "execution_count": 3,
   "metadata": {},
   "outputs": [],
   "source": [
    "import pandas as pd\n",
    "import numpy as np\n",
    "import matplotlib.pyplot as plt\n",
    "%matplotlib inline\n",
    "import warnings\n",
    "warnings.filterwarnings(\"ignore\", category=FutureWarning) "
   ]
  },
  {
   "cell_type": "code",
   "execution_count": 4,
   "metadata": {},
   "outputs": [
    {
     "data": {
      "text/html": [
       "<div>\n",
       "<style scoped>\n",
       "    .dataframe tbody tr th:only-of-type {\n",
       "        vertical-align: middle;\n",
       "    }\n",
       "\n",
       "    .dataframe tbody tr th {\n",
       "        vertical-align: top;\n",
       "    }\n",
       "\n",
       "    .dataframe thead th {\n",
       "        text-align: right;\n",
       "    }\n",
       "</style>\n",
       "<table border=\"1\" class=\"dataframe\">\n",
       "  <thead>\n",
       "    <tr style=\"text-align: right;\">\n",
       "      <th></th>\n",
       "      <th>word_freq_make:</th>\n",
       "      <th>word_freq_address:</th>\n",
       "      <th>word_freq_all:</th>\n",
       "      <th>word_freq_3d:</th>\n",
       "      <th>word_freq_our:</th>\n",
       "      <th>word_freq_over:</th>\n",
       "      <th>word_freq_remove:</th>\n",
       "      <th>word_freq_internet:</th>\n",
       "      <th>word_freq_order:</th>\n",
       "      <th>word_freq_mail:</th>\n",
       "      <th>...</th>\n",
       "      <th>char_freq_;:</th>\n",
       "      <th>char_freq_(:</th>\n",
       "      <th>char_freq_[:</th>\n",
       "      <th>char_freq_!:</th>\n",
       "      <th>char_freq_$:</th>\n",
       "      <th>char_freq_#:</th>\n",
       "      <th>capital_run_length_average:</th>\n",
       "      <th>capital_run_length_longest:</th>\n",
       "      <th>capital_run_length_total:</th>\n",
       "      <th>spam</th>\n",
       "    </tr>\n",
       "  </thead>\n",
       "  <tbody>\n",
       "    <tr>\n",
       "      <th>0</th>\n",
       "      <td>0.00</td>\n",
       "      <td>0.64</td>\n",
       "      <td>0.64</td>\n",
       "      <td>0.0</td>\n",
       "      <td>0.32</td>\n",
       "      <td>0.00</td>\n",
       "      <td>0.00</td>\n",
       "      <td>0.00</td>\n",
       "      <td>0.00</td>\n",
       "      <td>0.00</td>\n",
       "      <td>...</td>\n",
       "      <td>0.00</td>\n",
       "      <td>0.000</td>\n",
       "      <td>0.0</td>\n",
       "      <td>0.778</td>\n",
       "      <td>0.000</td>\n",
       "      <td>0.000</td>\n",
       "      <td>3.756</td>\n",
       "      <td>61</td>\n",
       "      <td>278</td>\n",
       "      <td>1</td>\n",
       "    </tr>\n",
       "    <tr>\n",
       "      <th>1</th>\n",
       "      <td>0.21</td>\n",
       "      <td>0.28</td>\n",
       "      <td>0.50</td>\n",
       "      <td>0.0</td>\n",
       "      <td>0.14</td>\n",
       "      <td>0.28</td>\n",
       "      <td>0.21</td>\n",
       "      <td>0.07</td>\n",
       "      <td>0.00</td>\n",
       "      <td>0.94</td>\n",
       "      <td>...</td>\n",
       "      <td>0.00</td>\n",
       "      <td>0.132</td>\n",
       "      <td>0.0</td>\n",
       "      <td>0.372</td>\n",
       "      <td>0.180</td>\n",
       "      <td>0.048</td>\n",
       "      <td>5.114</td>\n",
       "      <td>101</td>\n",
       "      <td>1028</td>\n",
       "      <td>1</td>\n",
       "    </tr>\n",
       "    <tr>\n",
       "      <th>2</th>\n",
       "      <td>0.06</td>\n",
       "      <td>0.00</td>\n",
       "      <td>0.71</td>\n",
       "      <td>0.0</td>\n",
       "      <td>1.23</td>\n",
       "      <td>0.19</td>\n",
       "      <td>0.19</td>\n",
       "      <td>0.12</td>\n",
       "      <td>0.64</td>\n",
       "      <td>0.25</td>\n",
       "      <td>...</td>\n",
       "      <td>0.01</td>\n",
       "      <td>0.143</td>\n",
       "      <td>0.0</td>\n",
       "      <td>0.276</td>\n",
       "      <td>0.184</td>\n",
       "      <td>0.010</td>\n",
       "      <td>9.821</td>\n",
       "      <td>485</td>\n",
       "      <td>2259</td>\n",
       "      <td>1</td>\n",
       "    </tr>\n",
       "    <tr>\n",
       "      <th>3</th>\n",
       "      <td>0.00</td>\n",
       "      <td>0.00</td>\n",
       "      <td>0.00</td>\n",
       "      <td>0.0</td>\n",
       "      <td>0.63</td>\n",
       "      <td>0.00</td>\n",
       "      <td>0.31</td>\n",
       "      <td>0.63</td>\n",
       "      <td>0.31</td>\n",
       "      <td>0.63</td>\n",
       "      <td>...</td>\n",
       "      <td>0.00</td>\n",
       "      <td>0.137</td>\n",
       "      <td>0.0</td>\n",
       "      <td>0.137</td>\n",
       "      <td>0.000</td>\n",
       "      <td>0.000</td>\n",
       "      <td>3.537</td>\n",
       "      <td>40</td>\n",
       "      <td>191</td>\n",
       "      <td>1</td>\n",
       "    </tr>\n",
       "    <tr>\n",
       "      <th>4</th>\n",
       "      <td>0.00</td>\n",
       "      <td>0.00</td>\n",
       "      <td>0.00</td>\n",
       "      <td>0.0</td>\n",
       "      <td>0.63</td>\n",
       "      <td>0.00</td>\n",
       "      <td>0.31</td>\n",
       "      <td>0.63</td>\n",
       "      <td>0.31</td>\n",
       "      <td>0.63</td>\n",
       "      <td>...</td>\n",
       "      <td>0.00</td>\n",
       "      <td>0.135</td>\n",
       "      <td>0.0</td>\n",
       "      <td>0.135</td>\n",
       "      <td>0.000</td>\n",
       "      <td>0.000</td>\n",
       "      <td>3.537</td>\n",
       "      <td>40</td>\n",
       "      <td>191</td>\n",
       "      <td>1</td>\n",
       "    </tr>\n",
       "    <tr>\n",
       "      <th>5</th>\n",
       "      <td>0.00</td>\n",
       "      <td>0.00</td>\n",
       "      <td>0.00</td>\n",
       "      <td>0.0</td>\n",
       "      <td>1.85</td>\n",
       "      <td>0.00</td>\n",
       "      <td>0.00</td>\n",
       "      <td>1.85</td>\n",
       "      <td>0.00</td>\n",
       "      <td>0.00</td>\n",
       "      <td>...</td>\n",
       "      <td>0.00</td>\n",
       "      <td>0.223</td>\n",
       "      <td>0.0</td>\n",
       "      <td>0.000</td>\n",
       "      <td>0.000</td>\n",
       "      <td>0.000</td>\n",
       "      <td>3.000</td>\n",
       "      <td>15</td>\n",
       "      <td>54</td>\n",
       "      <td>1</td>\n",
       "    </tr>\n",
       "  </tbody>\n",
       "</table>\n",
       "<p>6 rows × 58 columns</p>\n",
       "</div>"
      ],
      "text/plain": [
       "   word_freq_make:  word_freq_address:  word_freq_all:  word_freq_3d:  \\\n",
       "0             0.00                0.64            0.64            0.0   \n",
       "1             0.21                0.28            0.50            0.0   \n",
       "2             0.06                0.00            0.71            0.0   \n",
       "3             0.00                0.00            0.00            0.0   \n",
       "4             0.00                0.00            0.00            0.0   \n",
       "5             0.00                0.00            0.00            0.0   \n",
       "\n",
       "   word_freq_our:  word_freq_over:  word_freq_remove:  word_freq_internet:  \\\n",
       "0            0.32             0.00               0.00                 0.00   \n",
       "1            0.14             0.28               0.21                 0.07   \n",
       "2            1.23             0.19               0.19                 0.12   \n",
       "3            0.63             0.00               0.31                 0.63   \n",
       "4            0.63             0.00               0.31                 0.63   \n",
       "5            1.85             0.00               0.00                 1.85   \n",
       "\n",
       "   word_freq_order:  word_freq_mail:  ...  char_freq_;:  char_freq_(:  \\\n",
       "0              0.00             0.00  ...          0.00         0.000   \n",
       "1              0.00             0.94  ...          0.00         0.132   \n",
       "2              0.64             0.25  ...          0.01         0.143   \n",
       "3              0.31             0.63  ...          0.00         0.137   \n",
       "4              0.31             0.63  ...          0.00         0.135   \n",
       "5              0.00             0.00  ...          0.00         0.223   \n",
       "\n",
       "   char_freq_[:  char_freq_!:  char_freq_$:  char_freq_#:  \\\n",
       "0           0.0         0.778         0.000         0.000   \n",
       "1           0.0         0.372         0.180         0.048   \n",
       "2           0.0         0.276         0.184         0.010   \n",
       "3           0.0         0.137         0.000         0.000   \n",
       "4           0.0         0.135         0.000         0.000   \n",
       "5           0.0         0.000         0.000         0.000   \n",
       "\n",
       "   capital_run_length_average:  capital_run_length_longest:  \\\n",
       "0                        3.756                           61   \n",
       "1                        5.114                          101   \n",
       "2                        9.821                          485   \n",
       "3                        3.537                           40   \n",
       "4                        3.537                           40   \n",
       "5                        3.000                           15   \n",
       "\n",
       "   capital_run_length_total:  spam  \n",
       "0                        278     1  \n",
       "1                       1028     1  \n",
       "2                       2259     1  \n",
       "3                        191     1  \n",
       "4                        191     1  \n",
       "5                         54     1  \n",
       "\n",
       "[6 rows x 58 columns]"
      ]
     },
     "execution_count": 4,
     "metadata": {},
     "output_type": "execute_result"
    }
   ],
   "source": [
    "df = pd.read_csv('spam_dataset.csv')\n",
    "df.head(6)"
   ]
  },
  {
   "cell_type": "markdown",
   "metadata": {},
   "source": [
    "### 2.The dependent variable is \"spam\" where one indicates that an email is spam and zero otherwise.  Which three variables in the dataset do you think will be important predictors in a model of spam?  Why?"
   ]
  },
  {
   "cell_type": "markdown",
   "metadata": {},
   "source": [
    "I choose the following three variables as the predictors in the model of spam:\n",
    "- capital_run_length_average:\n",
    "- word_freq_free:\n",
    "- char_freq_!:\n",
    "\n",
    "Because spam e-mail, especially advertisement emails are full of \"!\", 'free\" and capitalized words, so I choose these three variables."
   ]
  },
  {
   "cell_type": "code",
   "execution_count": 7,
   "metadata": {},
   "outputs": [
    {
     "data": {
      "text/html": [
       "<div>\n",
       "<style scoped>\n",
       "    .dataframe tbody tr th:only-of-type {\n",
       "        vertical-align: middle;\n",
       "    }\n",
       "\n",
       "    .dataframe tbody tr th {\n",
       "        vertical-align: top;\n",
       "    }\n",
       "\n",
       "    .dataframe thead th {\n",
       "        text-align: right;\n",
       "    }\n",
       "</style>\n",
       "<table border=\"1\" class=\"dataframe\">\n",
       "  <thead>\n",
       "    <tr style=\"text-align: right;\">\n",
       "      <th></th>\n",
       "      <th>capital_run_length_average:</th>\n",
       "      <th>word_freq_free:</th>\n",
       "      <th>char_freq_!:</th>\n",
       "      <th>spam</th>\n",
       "    </tr>\n",
       "  </thead>\n",
       "  <tbody>\n",
       "    <tr>\n",
       "      <th>0</th>\n",
       "      <td>3.756</td>\n",
       "      <td>0.32</td>\n",
       "      <td>0.778</td>\n",
       "      <td>1</td>\n",
       "    </tr>\n",
       "    <tr>\n",
       "      <th>1</th>\n",
       "      <td>5.114</td>\n",
       "      <td>0.14</td>\n",
       "      <td>0.372</td>\n",
       "      <td>1</td>\n",
       "    </tr>\n",
       "    <tr>\n",
       "      <th>2</th>\n",
       "      <td>9.821</td>\n",
       "      <td>0.06</td>\n",
       "      <td>0.276</td>\n",
       "      <td>1</td>\n",
       "    </tr>\n",
       "    <tr>\n",
       "      <th>3</th>\n",
       "      <td>3.537</td>\n",
       "      <td>0.31</td>\n",
       "      <td>0.137</td>\n",
       "      <td>1</td>\n",
       "    </tr>\n",
       "    <tr>\n",
       "      <th>4</th>\n",
       "      <td>3.537</td>\n",
       "      <td>0.31</td>\n",
       "      <td>0.135</td>\n",
       "      <td>1</td>\n",
       "    </tr>\n",
       "  </tbody>\n",
       "</table>\n",
       "</div>"
      ],
      "text/plain": [
       "   capital_run_length_average:  word_freq_free:  char_freq_!:  spam\n",
       "0                        3.756             0.32         0.778     1\n",
       "1                        5.114             0.14         0.372     1\n",
       "2                        9.821             0.06         0.276     1\n",
       "3                        3.537             0.31         0.137     1\n",
       "4                        3.537             0.31         0.135     1"
      ]
     },
     "execution_count": 7,
     "metadata": {},
     "output_type": "execute_result"
    }
   ],
   "source": [
    "df_3 = df[['capital_run_length_average:','word_freq_free:','char_freq_!:','spam']]\n",
    "df_3.head(5)"
   ]
  },
  {
   "cell_type": "markdown",
   "metadata": {},
   "source": [
    "### 3.  Visualize the univariate distribution of each of the variables in the previous question.  "
   ]
  },
  {
   "cell_type": "code",
   "execution_count": 26,
   "metadata": {},
   "outputs": [
    {
     "data": {
      "text/plain": [
       "Text(0.5, 1.0, 'spam')"
      ]
     },
     "execution_count": 26,
     "metadata": {},
     "output_type": "execute_result"
    },
    {
     "data": {
      "image/png": "[encoded data removed]",
      "text/plain": [
       "<Figure size 1152x432 with 4 Axes>"
      ]
     },
     "metadata": {
      "needs_background": "light"
     },
     "output_type": "display_data"
    }
   ],
   "source": [
    "fig, axes=plt.subplots(nrows=1,ncols=4,figsize=(16,6))\n",
    "\n",
    "axes[0].hist(df_3['capital_run_length_average:'])\n",
    "axes[0].set_title('capital_run_length_average')\n",
    "axes[1].hist(df_3['word_freq_free:'])\n",
    "axes[1].set_title('word_freq_free')\n",
    "axes[2].hist(df_3['char_freq_!:'])\n",
    "axes[2].set_title('char_freq_!')\n",
    "axes[3].hist(df_3['spam'])\n",
    "axes[3].set_title('spam')"
   ]
  },
  {
   "cell_type": "markdown",
   "metadata": {},
   "source": [
    "### 4. Name each of the supervised learning models that we have learned thus far that are used to predict dependent variables like \"spam\".   "
   ]
  },
  {
   "cell_type": "markdown",
   "metadata": {},
   "source": [
    "We have learnt 6 models to predict classification problems.\n",
    "- k-Nearest-Neighbors Classifier\n",
    "- Logistic Regression (as well as penalized Logistic Regression) \n",
    "- Support Vector Machine\n",
    "- Decision Tree\n",
    "- Bagged Trees\n",
    "- Random Forest"
   ]
  },
  {
   "cell_type": "markdown",
   "metadata": {},
   "source": [
    "### 5. Describe the importance of training and test data.  Why do we separate data into these subsets?\n",
    "\n"
   ]
  },
  {
   "cell_type": "markdown",
   "metadata": {},
   "source": [
    "The fundamental purpose to split data into training and test set is to avoid overfitting. All Machine Learning Algorithms face the same trade-off between variance and bias. When we want to increase models' fit to training dataset, we can lower the bias, but face the problem of high variance, and this problem is called overfit. Overfit can significantly reduce the predictability of a model. Hence, we seperate the data first, to test if the model can give good prediction on test data, to avoid such overfitting models.\n"
   ]
  },
  {
   "cell_type": "markdown",
   "metadata": {},
   "source": [
    "### 6. What is k-fold cross validation and what do we use it for?"
   ]
  },
  {
   "cell_type": "markdown",
   "metadata": {},
   "source": [
    "k-fold cross validation involves randomly dividing the set of observations into k groups of approximately equal size. One fold is treated as a validation set, and the method is ﬁt on the remaining k − 1 folds. Then the predictability (using metrics such as mean squared error for regression, or accuracy for classification) is then computed on the observations in the held-out fold. This procedure is repeated k times; each time, a diﬀerent group of observations is treated as a validation set.\n",
    "\n",
    "This method is used to exam the test error rate of the model, thus avoiding the potential overfitting problems of our model. What's more, compared to Leave-One-Out Cross Validation, which may lead to computational intensivity when the sample is large, k-fold CV can significantly reduce computational intensivity."
   ]
  },
  {
   "cell_type": "markdown",
   "metadata": {},
   "source": [
    "### 7. How is k-fold cross validation different from stratified k-fold cross validation?"
   ]
  },
  {
   "cell_type": "markdown",
   "metadata": {},
   "source": [
    "Stratified k-fold cross validation a kind of k-fold CV thatis designed to correct a potential problem raised by k-fold cross validaton - imbalanced data. They are only different on one perspective: Stratification. When we divide data into k flods, Stratified k-fold cross validation requires to use stratified sampling to ensure that each fold of dataset has the same proportion of observations with a given label, thusing avoid the problem of imbalanced data. On the contrary, k-fold CV only does simple random division, which may lead to imbalanced data in some folds."
   ]
  },
  {
   "cell_type": "markdown",
   "metadata": {},
   "source": [
    "### 8. Choose one model from question four.  Split the data into training and test subsets.  Build a model with the three variables in the dataset that you think will be good predictors of \"spam\".  \n",
    "- Describe why you chose any particular parameters for your model (e.g.- if you used KNN how did you decide to choose a specific value for k).  \n",
    "- Run the model and evaluate prediction error in two ways: A) On test data directly and B) using k-fold cross-validation.  "
   ]
  },
  {
   "cell_type": "code",
   "execution_count": 9,
   "metadata": {},
   "outputs": [],
   "source": [
    "# data and preprocessing\n",
    "from sklearn.model_selection import train_test_split\n",
    "from sklearn import preprocessing\n",
    "\n",
    "X = df_3.loc[:, df_3.columns != 'spam']\n",
    "y = df_3['spam']\n",
    "X_train, X_test, y_train, y_test = train_test_split(X, y, random_state=42) \n",
    "\n",
    "scaler = preprocessing.StandardScaler().fit(X_train)\n",
    "X_train_scaled = scaler.transform(X_train)\n",
    "X_test_scaled = scaler.transform(X_test)"
   ]
  },
  {
   "cell_type": "code",
   "execution_count": 15,
   "metadata": {
    "code_folding": []
   },
   "outputs": [
    {
     "name": "stdout",
     "output_type": "stream",
     "text": [
      "PENALIZED LOGISTIC REGRESSION (SCALED DATA)\n",
      "best parameter of Logistic Regression: {'C': 2.7}\n",
      "best cross-validation score of Logistic Regression: 0.797\n",
      "Test set score: 0.798\n"
     ]
    }
   ],
   "source": [
    "# Penalized Logistic Regression\n",
    "from sklearn.linear_model import LogisticRegression\n",
    "from sklearn.model_selection import cross_val_score\n",
    "from sklearn.model_selection import GridSearchCV\n",
    "from sklearn.model_selection import StratifiedKFold\n",
    "\n",
    "# Set stratified k-folds\n",
    "skfold = StratifiedKFold(n_splits=10, shuffle = True, random_state=42)\n",
    "\n",
    "# Use GridSearchCV to find the best model \n",
    "C = {'C': np.arange(0.1, 5, 0.1)}\n",
    "grid_logit = GridSearchCV(LogisticRegression(),param_grid=C, cv=skfold)\n",
    "grid_logit.fit(X_train_scaled, y_train) \n",
    "\n",
    "print(\"PENALIZED LOGISTIC REGRESSION (SCALED DATA)\")\n",
    "print(\"best parameter of Logistic Regression: {}\".format(grid_logit.best_params_))\n",
    "print(\"best cross-validation score of Logistic Regression: {:.3f}\".format(grid_logit.best_score_))\n",
    "print(\"Test set score: {:.3f}\".format(grid_logit.score(X_test_scaled, y_test)))\n"
   ]
  },
  {
   "cell_type": "markdown",
   "metadata": {},
   "source": [
    "##### Solution 8:\n",
    "- use GridSearchCV to iterate the parameters from 0.1 to 5.0 to find the best parameter for model\n",
    "- the prediction error using cross-validation is 1-0.797 = 0.203\n",
    "- the prediction error using test set is 1-0.798 = 0.202"
   ]
  },
  {
   "cell_type": "markdown",
   "metadata": {},
   "source": [
    "### 9. Choose a second model from question four.  "
   ]
  },
  {
   "cell_type": "code",
   "execution_count": 16,
   "metadata": {},
   "outputs": [
    {
     "name": "stdout",
     "output_type": "stream",
     "text": [
      "SVC (SCALED DATA)\n",
      "best parameter of SVC: {'C': 10, 'gamma': 10, 'kernel': 'rbf'}\n",
      "best cross-validation score of SVC: 0.848\n",
      "Test set score: 0.846\n"
     ]
    }
   ],
   "source": [
    "# Support Vector Machine\n",
    "from sklearn.svm import SVC\n",
    "\n",
    "# Use GridSearchCV to find the best model \n",
    "param_grid = {'C': [0.1,1, 10, 100, 1000], \n",
    "              'gamma': [10,1,0.1,0.01,0.001,0.0001], \n",
    "              'kernel': ['rbf']} \n",
    "\n",
    "grid_SVC = GridSearchCV(SVC(),param_grid=param_grid, cv=skfold)\n",
    "grid_SVC.fit(X_train_scaled, y_train) \n",
    "\n",
    "print(\"SVC (SCALED DATA)\")\n",
    "print(\"best parameter of SVC: {}\".format(grid_SVC.best_params_))\n",
    "print(\"best cross-validation score of SVC: {:.3f}\".format(grid_SVC.best_score_))\n",
    "print(\"Test set score: {:.3f}\".format(grid_SVC.score(X_test_scaled, y_test)))"
   ]
  },
  {
   "cell_type": "markdown",
   "metadata": {},
   "source": [
    "##### Solution 9:\n",
    "- use GridSearchCV to iterate the parameters C from 0.1 to 1000, and parameter gamma from 0.0001 to 10, to find the best parameter for model\n",
    "- the prediction error using cross-validation is 1-0.848 = 0.152\n",
    "- the prediction error using test set is 1-0.846 = 0.154"
   ]
  },
  {
   "cell_type": "markdown",
   "metadata": {},
   "source": [
    "### 10. Choose a third model from question four. "
   ]
  },
  {
   "cell_type": "code",
   "execution_count": 17,
   "metadata": {},
   "outputs": [
    {
     "name": "stdout",
     "output_type": "stream",
     "text": [
      "Decision Tree (UNSCALED DATA)\n",
      "best parameter of Decision Tree: {'criterion': 'gini', 'max_depth': 6, 'min_samples_leaf': 2}\n",
      "best cross-validation score of Decision Tree: 0.849\n",
      "Test set score: 0.853\n"
     ]
    }
   ],
   "source": [
    "# Decision Tree\n",
    "from sklearn.tree import DecisionTreeClassifier\n",
    "\n",
    "# Use GridSearchCV to find the best model \n",
    "max_depth = np.arange(1, 10, 1)\n",
    "min_samples_leaf = [1, 2, 4]\n",
    "criterion = ['entropy','gini']\n",
    "\n",
    "param_grid = {'max_depth' : max_depth,\n",
    "             'min_samples_leaf' : min_samples_leaf,\n",
    "             'criterion' : criterion} \n",
    "\n",
    "grid_tree = GridSearchCV(DecisionTreeClassifier(),param_grid=param_grid, cv=skfold)\n",
    "grid_tree.fit(X_train, y_train) \n",
    "\n",
    "print(\"Decision Tree (UNSCALED DATA)\")\n",
    "print(\"best parameter of Decision Tree: {}\".format(grid_tree.best_params_))\n",
    "print(\"best cross-validation score of Decision Tree: {:.3f}\".format(grid_tree.best_score_))\n",
    "print(\"Test set score: {:.3f}\".format(grid_tree.score(X_test, y_test)))"
   ]
  },
  {
   "cell_type": "markdown",
   "metadata": {},
   "source": [
    "##### Solution 10:\n",
    "- use GridSearchCV to iterate the parameters (including max_depth (number of times internal nodes are split), min_samples_leaf(threshold for minimum number of observations per terminal node) and criterion), to find the best parameter for model.\n",
    "- the prediction error using cross-validation is 1-0.849 = 0.151\n",
    "- the prediction error using test set is 1-0.853 = 0.147"
   ]
  },
  {
   "cell_type": "markdown",
   "metadata": {},
   "source": [
    "### 11.  Choose a fourth model from question four.  "
   ]
  },
  {
   "cell_type": "code",
   "execution_count": 20,
   "metadata": {},
   "outputs": [
    {
     "name": "stdout",
     "output_type": "stream",
     "text": [
      "KNN (SCALED DATA)\n",
      "best parameter of KNN Classifier: {'n_neighbors': 7}\n",
      "best cross-validation score of KNeighborsClassifier: 0.849\n",
      "Test set score: 0.839\n"
     ]
    }
   ],
   "source": [
    "#KNN Classifier\n",
    "from sklearn.neighbors import KNeighborsClassifier\n",
    "\n",
    "param_grid = {'n_neighbors': np.arange(1, 10, 1)}\n",
    "# Use GridSearchCV to find the best model \n",
    "\n",
    "grid_knn = GridSearchCV(KNeighborsClassifier(),param_grid=param_grid, cv=skfold)\n",
    "grid_knn.fit(X_train_scaled, y_train) \n",
    "\n",
    "print(\"KNN (SCALED DATA)\")\n",
    "print(\"best parameter of KNN Classifier: {}\".format(grid_knn.best_params_))\n",
    "print(\"best cross-validation score of KNeighborsClassifier: {:.3f}\".format(grid_knn.best_score_))\n",
    "print(\"Test set score: {:.3f}\".format(grid_knn.score(X_test_scaled, y_test)))"
   ]
  },
  {
   "cell_type": "markdown",
   "metadata": {},
   "source": [
    "##### Solution 11:\n",
    "- use GridSearchCV to iterate the parameters n, to find the best parameter for model.\n",
    "- the prediction error using cross-validation is 1-0.849 = 0.151\n",
    "- the prediction error using test set is 1-0.839 = 0.161"
   ]
  },
  {
   "cell_type": "markdown",
   "metadata": {},
   "source": [
    "### 12. Now rerun your best model from questions 8 through 11, but this time add three new variables to the model that you think will increase prediction accuracy.   Did this model predict test data better than your previous models?  "
   ]
  },
  {
   "cell_type": "markdown",
   "metadata": {},
   "source": [
    "##### based on the preformance of four models, Decision Tree has the best test accuracy and cross-validation score.\n",
    "\n",
    "add \"word_freq_george\", \"word_freq_650\" and \"char_freq_(:\" to current model"
   ]
  },
  {
   "cell_type": "code",
   "execution_count": 21,
   "metadata": {
    "scrolled": true
   },
   "outputs": [
    {
     "name": "stdout",
     "output_type": "stream",
     "text": [
      "Decision Tree (UNSCALED DATA)\n",
      "best cross-validation score of Decision Tree: 0.861\n",
      "Test set score: 0.859\n"
     ]
    }
   ],
   "source": [
    "#Decision Tree (Best Model)\n",
    "\n",
    "#add \"word_freq_george\", \"word_freq_650\" and \"char_freq_(:\" to current model\n",
    "X = df[[\"capital_run_length_average:\",\"word_freq_free:\",\"char_freq_!:\",\n",
    "        'word_freq_george:',\"word_freq_650:\",\"char_freq_(:\"]]\n",
    "y = df['spam']\n",
    "X_train, X_test, y_train, y_test = train_test_split(X, y, random_state=42) \n",
    "\n",
    "\n",
    "# Use GridSearchCV to find the best model \n",
    "max_depth = np.arange(1, 10, 1)\n",
    "min_samples_leaf = [1, 2, 4]\n",
    "criterion = ['entropy','gini']\n",
    "\n",
    "param_grid = {'max_depth' : max_depth,\n",
    "             'min_samples_leaf' : min_samples_leaf,\n",
    "             'criterion' : criterion} \n",
    "\n",
    "grid_tree = GridSearchCV(DecisionTreeClassifier(),param_grid=param_grid, cv=skfold)\n",
    "grid_tree.fit(X_train, y_train) \n",
    "\n",
    "print(\"Decision Tree (UNSCALED DATA)\")\n",
    "print(\"best cross-validation score of Decision Tree: {:.3f}\".format(grid_tree.best_score_))\n",
    "print(\"Test set score: {:.3f}\".format(grid_tree.score(X_test, y_test)))"
   ]
  },
  {
   "cell_type": "markdown",
   "metadata": {},
   "source": [
    "##### Solution 12:\n",
    "- The model does a better job in predicting test dataset, increasing the accuracy from 0.852 to 0.862"
   ]
  },
  {
   "cell_type": "markdown",
   "metadata": {},
   "source": [
    "### 13. Rerun all your other models with this final set of six variables, evaluate prediction error, and choose a final model.  Why did you select this model among all of the models that you ran?  "
   ]
  },
  {
   "cell_type": "code",
   "execution_count": 22,
   "metadata": {},
   "outputs": [],
   "source": [
    "#Preprossessing the data\n",
    "scaler = preprocessing.StandardScaler().fit(X_train)\n",
    "X_train_scaled = scaler.transform(X_train)\n",
    "X_test_scaled = scaler.transform(X_test)"
   ]
  },
  {
   "cell_type": "code",
   "execution_count": 24,
   "metadata": {},
   "outputs": [
    {
     "name": "stdout",
     "output_type": "stream",
     "text": [
      "PENALIZED LOGISTIC REGRESSION (SCALED DATA)\n",
      "best cross-validation score of Logistic Regression: 0.815\n",
      "Test set score: 0.811\n"
     ]
    }
   ],
   "source": [
    "# Penalized Regression Model\n",
    "C = {'C': np.arange(0.1, 5, 0.1)}\n",
    "grid_logit = GridSearchCV(LogisticRegression(),param_grid=C, cv=skfold)\n",
    "grid_logit.fit(X_train_scaled, y_train) \n",
    "\n",
    "print(\"PENALIZED LOGISTIC REGRESSION (SCALED DATA)\")\n",
    "print(\"best cross-validation score of Logistic Regression: {:.3f}\".format(grid_logit.best_score_))\n",
    "print(\"Test set score: {:.3f}\".format(grid_logit.score(X_test_scaled, y_test)))"
   ]
  },
  {
   "cell_type": "code",
   "execution_count": 75,
   "metadata": {},
   "outputs": [
    {
     "name": "stdout",
     "output_type": "stream",
     "text": [
      "SVC (SCALED DATA)\n",
      "best cross-validation score of SVC: 0.855\n",
      "Test set score: 0.850\n"
     ]
    }
   ],
   "source": [
    "# SVM\n",
    "param_grid = {'C': [0.1,1, 10, 100, 1000], \n",
    "              'gamma': [10,1,0.1,0.01,0.001,0.0001], \n",
    "              'kernel': ['rbf']} \n",
    "\n",
    "grid_SVC = GridSearchCV(SVC(),param_grid=param_grid, cv=skfold)\n",
    "grid_SVC.fit(X_train_scaled, y_train) \n",
    "\n",
    "print(\"SVC (SCALED DATA)\")\n",
    "print(\"best cross-validation score of SVC: {:.3f}\".format(grid_SVC.best_score_))\n",
    "print(\"Test set score: {:.3f}\".format(grid_SVC.score(X_test_scaled, y_test)))"
   ]
  },
  {
   "cell_type": "code",
   "execution_count": 25,
   "metadata": {},
   "outputs": [
    {
     "name": "stdout",
     "output_type": "stream",
     "text": [
      "KNN (SCALED DATA)\n",
      "best cross-validation score of KNeighborsClassifier: 0.863\n",
      "Test set score: 0.862\n"
     ]
    }
   ],
   "source": [
    "#KNN Classifier\n",
    "param_grid = {'n_neighbors': np.arange(1, 10, 1)}\n",
    "\n",
    "grid_knn = GridSearchCV(KNeighborsClassifier(),param_grid=param_grid, cv=skfold)\n",
    "grid_knn.fit(X_train_scaled, y_train) \n",
    "\n",
    "print(\"KNN (SCALED DATA)\")\n",
    "print(\"best cross-validation score of KNeighborsClassifier: {:.3f}\".format(grid_knn.best_score_))\n",
    "print(\"Test set score: {:.3f}\".format(grid_knn.score(X_test_scaled, y_test)))"
   ]
  },
  {
   "cell_type": "markdown",
   "metadata": {},
   "source": [
    "##### Solution 13\n",
    "- I choose Decision Tree. Among all the models, Decision Tree outperform others by providing the best test data prediction accuracy and highest cross-validation score. What's more, it does not require scaling the data, and it has a fast processing speed. That's why I choose it."
   ]
  },
  {
   "cell_type": "markdown",
   "metadata": {},
   "source": [
    "### 14. What variable that currently is not in your model, if included, would be likely to increase your final model's predictive power?  For this answer try to speculate about a variable outside the variables available in the data that would improve you model."
   ]
  },
  {
   "cell_type": "markdown",
   "metadata": {},
   "source": [
    "I believe the frequency of word \"sale\", might be a good predictor of spam emails. Because spam emails are predominantly advertisement email, so \"sale\" should be a highly repeated word in these e-mails, thus making it a good predictor of spam."
   ]
  },
  {
   "cell_type": "markdown",
   "metadata": {},
   "source": [
    "### 15. Lastly, you have listed each of the models that we have learned to use to predict dependent variables like spam.  List each model we have focused on in class thus far that you could use to evaluate data with a continuous dependent variable. "
   ]
  },
  {
   "cell_type": "markdown",
   "metadata": {},
   "source": [
    "- K-Nearest-Neighborhood Regression\n",
    "- Linear Regression (including Ridge and Lasso)\n",
    "- SVM\n",
    "- Decision Tree\n",
    "- Bagged Trees\n",
    "- Random Forest"
   ]
  }
 ],
 "metadata": {
  "kernelspec": {
   "display_name": "Python 3",
   "language": "python",
   "name": "python3"
  },
  "language_info": {
   "codemirror_mode": {
    "name": "ipython",
    "version": 3
   },
   "file_extension": ".py",
   "mimetype": "text/x-python",
   "name": "python",
   "nbconvert_exporter": "python",
   "pygments_lexer": "ipython3",
   "version": "3.7.6"
  }
 },
 "nbformat": 4,
 "nbformat_minor": 4
}
